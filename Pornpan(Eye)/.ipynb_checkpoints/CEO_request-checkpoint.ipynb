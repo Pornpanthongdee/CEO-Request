{
 "cells": [
  {
   "cell_type": "markdown",
   "metadata": {
    "id": "ukNDCnuz8yoZ"
   },
   "source": [
    "# CEO-Request"
   ]
  },
  {
   "cell_type": "markdown",
   "metadata": {
    "id": "W-44cXTb8yoc"
   },
   "source": [
    "## 1. Problem statement \n",
    "\n",
    "\n",
    "\n",
    ">❓ How should Olist improve its profit margin ❓\n",
    "> - some revenues per sellers per months\n",
    "> - some revenues per orders\n",
    "> - some reputation costs (estimated) per bad reviews"
   ]
  },
  {
   "cell_type": "markdown",
   "metadata": {
    "id": "OKLTFntK8yod"
   },
   "source": [
    "**1.1 Should Olist remove underperforming sellers from its marketplace ?** 🕵🏻"
   ]
  },
  {
   "cell_type": "markdown",
   "metadata": {
    "id": "2kQ5MHUd8yoe"
   },
   "source": [
    "Analyse the impact of removing the worse sellers from Olist's marketplace, we will perform a what-if analysis: What would have happened if Olist had never accepted these sellers in the first place? granted, it's hard to know in advance who is a good seller?\n",
    "\n",
    "1️⃣ Compute, for each `seller_id`, and cumulated since the beginning:\n",
    "- the `revenues` it brings\n",
    "- the `costs` associated with all its bad reviews\n",
    "- the resulting `profits` (revenues - costs)\n",
    "- the number of `orders` (it will impact the overall IT costs)\n",
    "\n",
    "\n",
    "2️⃣ We can then:\n",
    "- sort sellers by increasing profits for Olist\n",
    "- for each number of sellers to remove, compute the financial impact it would have made if they had never been accepted on the platform. \n",
    "- we may find an optimal number of sellers to remove that maximizes Olist's profit margin\n",
    "\n",
    "Starting from `seller().get_training_data()` DataFrame:\n",
    "- Olist's positive `revenue_per_seller`? \n",
    "- Olist's `cost_of_bad_reviews`?\n",
    "\n",
    "\n"
   ]
  },
  {
   "cell_type": "markdown",
   "metadata": {
    "id": "A68re-v28yoe"
   },
   "source": [
    "### 1.2 investigate instead\n",
    "\n",
    "- Should Olist remove the worst performing products / categories from its marketplace entirely?\n",
    "- Should Olist remove only consistently underperforming sellers, after it has a honeymoon period of few months?\n",
    "-  Should Olist restrict seller/customer pairs between certain states to avoid delays?\n",
    "\n"
   ]
  },
  {
   "cell_type": "markdown",
   "metadata": {
    "id": "LeBysMpd8yof",
    "tags": [
     "delete_begin"
    ]
   },
   "source": [
    "# Solution"
   ]
  },
  {
   "cell_type": "markdown",
   "metadata": {
    "id": "LBk28VWq8yof"
   },
   "source": [
    "\n",
    "- Update `seller.py` to compute a missing `cost_of_reviews` column\n",
    "- Compute `months_on_olist` and `revenues` using existing seller_training_data columns\n",
    "- Compute `profits` per seller\n",
    "- Sort DataFrame per `profits`\n",
    "- Remove worst performing sellers one by one, and for each scenario:\n",
    "    - compute `n_orders` and therefore `olist_it_costs` (proportional to square root of n_orders)\n",
    "    - compute Olist's total `net_profits` and `margin`\n",
    "- Find the optimal number of sellers to remove from the platform so as to maximize `profit` or `margin`"
   ]
  },
  {
   "cell_type": "markdown",
   "metadata": {
    "id": "jgQfP3uZ8yog"
   },
   "source": [
    "## Step ① : Update `seller.py`"
   ]
  },
  {
   "cell_type": "code",
   "execution_count": null,
   "metadata": {
    "executionInfo": {
     "elapsed": 12,
     "status": "ok",
     "timestamp": 1661439046975,
     "user": {
      "displayName": "Pornpan Thongdee",
      "userId": "11899703157533885911"
     },
     "user_tz": -420
    },
    "id": "LLLGG7oXd0Hf"
   },
   "outputs": [],
   "source": [
    "#Colab read data from google drive\n",
    "import os\n",
    "from google.colab import drive"
   ]
  },
  {
   "cell_type": "code",
   "execution_count": null,
   "metadata": {
    "colab": {
     "base_uri": "https://localhost:8080/"
    },
    "executionInfo": {
     "elapsed": 108620,
     "status": "ok",
     "timestamp": 1661439155586,
     "user": {
      "displayName": "Pornpan Thongdee",
      "userId": "11899703157533885911"
     },
     "user_tz": -420
    },
    "id": "kbuwXHrldhLY",
    "outputId": "5213ce3d-625e-4b67-df1e-78d22c779a13"
   },
   "outputs": [],
   "source": [
    "from google.colab import drive\n",
    "drive.mount('/content/drive/')"
   ]
  },
  {
   "cell_type": "code",
   "execution_count": null,
   "metadata": {
    "executionInfo": {
     "elapsed": 16,
     "status": "ok",
     "timestamp": 1661439155588,
     "user": {
      "displayName": "Pornpan Thongdee",
      "userId": "11899703157533885911"
     },
     "user_tz": -420
    },
    "id": "YB4pds_OdrHD"
   },
   "outputs": [],
   "source": [
    "import sys\n",
    "sys.path.append('/content/drive/MyDrive/Pornpan(Eye)')"
   ]
  },
  {
   "cell_type": "code",
   "execution_count": null,
   "metadata": {
    "executionInfo": {
     "elapsed": 617,
     "status": "ok",
     "timestamp": 1661439156197,
     "user": {
      "displayName": "Pornpan Thongdee",
      "userId": "11899703157533885911"
     },
     "user_tz": -420
    },
    "id": "bc91AZmK8yoi"
   },
   "outputs": [],
   "source": [
    "import numpy as np\n",
    "import pandas as pd\n",
    "import matplotlib.pyplot as plt\n",
    "import seaborn as sns\n",
    "import os\n",
    "\n",
    "%load_ext autoreload\n",
    "%autoreload 2"
   ]
  },
  {
   "cell_type": "markdown",
   "metadata": {
    "id": "1ODk-k8cZzDy"
   },
   "source": [
    "## Investigate the cardinalities various DataFrames"
   ]
  },
  {
   "cell_type": "code",
   "execution_count": null,
   "metadata": {
    "executionInfo": {
     "elapsed": 8656,
     "status": "ok",
     "timestamp": 1661439164848,
     "user": {
      "displayName": "Pornpan Thongdee",
      "userId": "11899703157533885911"
     },
     "user_tz": -420
    },
    "id": "KX0_iVQMSKNz"
   },
   "outputs": [],
   "source": [
    "# seller.py has been updated to seller_updated.py to automatically compute what we need for step (1)\n",
    "from olist.seller_updated import Seller\n",
    "seller = Seller()"
   ]
  },
  {
   "cell_type": "code",
   "execution_count": null,
   "metadata": {
    "colab": {
     "base_uri": "https://localhost:8080/",
     "height": 357
    },
    "executionInfo": {
     "elapsed": 4417,
     "status": "ok",
     "timestamp": 1661439169259,
     "user": {
      "displayName": "Pornpan Thongdee",
      "userId": "11899703157533885911"
     },
     "user_tz": -420
    },
    "id": "0FDQe24P8yoj",
    "outputId": "34dfea1c-b2fb-4213-a56d-1b50fc079899"
   },
   "outputs": [],
   "source": [
    "sellers = seller.get_training_data()\n",
    "sellers.describe()"
   ]
  },
  {
   "cell_type": "markdown",
   "metadata": {
    "id": "326GblLJ8yoj"
   },
   "source": [
    "## Step ② : Analysis Olist P&L "
   ]
  },
  {
   "cell_type": "markdown",
   "metadata": {
    "id": "cUUyoiEam4Wm"
   },
   "source": [
    "_Revenues_"
   ]
  },
  {
   "cell_type": "code",
   "execution_count": null,
   "metadata": {
    "colab": {
     "base_uri": "https://localhost:8080/"
    },
    "executionInfo": {
     "elapsed": 62,
     "status": "ok",
     "timestamp": 1661439169259,
     "user": {
      "displayName": "Pornpan Thongdee",
      "userId": "11899703157533885911"
     },
     "user_tz": -420
    },
    "id": "2Rq3FqNk8yok",
    "outputId": "cf8a5eb6-30c6-4f12-c5dc-313a5681ece3"
   },
   "outputs": [],
   "source": [
    "# Gross Revenues\n",
    "olist_revenues = sellers.revenues.sum()\n",
    "olist_revenues"
   ]
  },
  {
   "cell_type": "code",
   "execution_count": null,
   "metadata": {
    "colab": {
     "base_uri": "https://localhost:8080/"
    },
    "executionInfo": {
     "elapsed": 53,
     "status": "ok",
     "timestamp": 1661439169260,
     "user": {
      "displayName": "Pornpan Thongdee",
      "userId": "11899703157533885911"
     },
     "user_tz": -420
    },
    "id": "CsFAwpLm8yok",
    "outputId": "45ca5758-5008-405d-e81a-ed923fc3b608"
   },
   "outputs": [],
   "source": [
    "# Including from monthly subscription\n",
    "olist_subscription_revenues = sellers.months_on_olist.sum()*80\n",
    "olist_subscription_revenues"
   ]
  },
  {
   "cell_type": "code",
   "execution_count": null,
   "metadata": {
    "colab": {
     "base_uri": "https://localhost:8080/"
    },
    "executionInfo": {
     "elapsed": 45,
     "status": "ok",
     "timestamp": 1661439169260,
     "user": {
      "displayName": "Pornpan Thongdee",
      "userId": "11899703157533885911"
     },
     "user_tz": -420
    },
    "id": "6ahwvNmq8yol",
    "outputId": "6e05ec43-6b39-4e3d-9e14-d56dbff99af6"
   },
   "outputs": [],
   "source": [
    "# Including from sales\n",
    "olist_sales_revenues = sellers.sales.sum()*0.1\n",
    "olist_sales_revenues"
   ]
  },
  {
   "cell_type": "markdown",
   "metadata": {
    "id": "wLvXHoWz8yol"
   },
   "source": [
    "_Costs_"
   ]
  },
  {
   "cell_type": "code",
   "execution_count": null,
   "metadata": {
    "colab": {
     "base_uri": "https://localhost:8080/"
    },
    "executionInfo": {
     "elapsed": 38,
     "status": "ok",
     "timestamp": 1661439169261,
     "user": {
      "displayName": "Pornpan Thongdee",
      "userId": "11899703157533885911"
     },
     "user_tz": -420
    },
    "id": "PqOFNS108yol",
    "outputId": "4cbb0c17-9fa5-4aaa-8572-ac1b1d16fbea"
   },
   "outputs": [],
   "source": [
    "olist_reputation_costs = sellers.cost_of_reviews.sum()\n",
    "olist_reputation_costs"
   ]
  },
  {
   "cell_type": "code",
   "execution_count": null,
   "metadata": {
    "executionInfo": {
     "elapsed": 31,
     "status": "ok",
     "timestamp": 1661439169261,
     "user": {
      "displayName": "Pornpan Thongdee",
      "userId": "11899703157533885911"
     },
     "user_tz": -420
    },
    "id": "rmxOng8C8yol"
   },
   "outputs": [],
   "source": [
    "olist_it_costs_all_orders = 500000"
   ]
  },
  {
   "cell_type": "code",
   "execution_count": null,
   "metadata": {
    "colab": {
     "base_uri": "https://localhost:8080/"
    },
    "executionInfo": {
     "elapsed": 31,
     "status": "ok",
     "timestamp": 1661439169262,
     "user": {
      "displayName": "Pornpan Thongdee",
      "userId": "11899703157533885911"
     },
     "user_tz": -420
    },
    "id": "N6XvOCXJ8yom",
    "outputId": "fb1bfe19-d73a-496e-82fc-69f5817871f8"
   },
   "outputs": [],
   "source": [
    "# Total costs\n",
    "olist_total_costs = 500000 + sellers.cost_of_reviews.sum()\n",
    "olist_total_costs"
   ]
  },
  {
   "cell_type": "markdown",
   "metadata": {
    "id": "-wYxe7kO8yom"
   },
   "source": [
    "_Profits_"
   ]
  },
  {
   "cell_type": "code",
   "execution_count": null,
   "metadata": {
    "colab": {
     "base_uri": "https://localhost:8080/"
    },
    "executionInfo": {
     "elapsed": 24,
     "status": "ok",
     "timestamp": 1661439169262,
     "user": {
      "displayName": "Pornpan Thongdee",
      "userId": "11899703157533885911"
     },
     "user_tz": -420
    },
    "id": "B64Zfy_B8yom",
    "outputId": "fc4944cb-58c8-41ad-b593-14ac7fe97d4f"
   },
   "outputs": [],
   "source": [
    "# before IT costs\n",
    "olist_gross_profits = sellers.profits.sum()\n",
    "olist_gross_profits"
   ]
  },
  {
   "cell_type": "code",
   "execution_count": null,
   "metadata": {
    "colab": {
     "base_uri": "https://localhost:8080/"
    },
    "executionInfo": {
     "elapsed": 17,
     "status": "ok",
     "timestamp": 1661439169262,
     "user": {
      "displayName": "Pornpan Thongdee",
      "userId": "11899703157533885911"
     },
     "user_tz": -420
    },
    "id": "RH6ZjYhI8yom",
    "outputId": "bd92e245-c8fe-4ed9-da72-d235105000cf"
   },
   "outputs": [],
   "source": [
    "# after IT costs\n",
    "olist_net_profits = olist_gross_profits - olist_it_costs_all_orders\n",
    "olist_net_profits"
   ]
  },
  {
   "cell_type": "code",
   "execution_count": null,
   "metadata": {
    "colab": {
     "base_uri": "https://localhost:8080/",
     "height": 562
    },
    "executionInfo": {
     "elapsed": 11,
     "status": "ok",
     "timestamp": 1661439169263,
     "user": {
      "displayName": "Pornpan Thongdee",
      "userId": "11899703157533885911"
     },
     "user_tz": -420
    },
    "id": "YuylDdae8yon",
    "outputId": "b0347320-588d-4343-a2fd-a12e38ebc2da"
   },
   "outputs": [],
   "source": [
    "import plotly.graph_objects as go\n",
    "\n",
    "fig = go.Figure(go.Waterfall(\n",
    "    orientation = \"v\",\n",
    "    measure = [\"relative\", \"relative\", \"total\", \"relative\", \"relative\", \"total\"],\n",
    "    x = [\"Monthly subcriptions\", \"Sales\", \"Total Revenues\", \"Reputation costs\", \"It costs\", \"Net Profit\"],\n",
    "    textposition = \"outside\",\n",
    "#    text = [\"\", \"+80\", \"\", \"-40\", \"-20\", \"Total\"],\n",
    "    y = [olist_subscription_revenues, olist_sales_revenues, 0, -olist_reputation_costs, -olist_it_costs_all_orders, 0],\n",
    "    connector = {\"line\":{\"color\":\"rgb(63, 63, 63)\"}},\n",
    "))\n",
    "\n",
    "fig.update_layout(\n",
    "        title = \"Olist P&L since inception (Million BRL)\",\n",
    "        showlegend = True\n",
    ")\n",
    "\n",
    "fig.show()"
   ]
  },
  {
   "cell_type": "markdown",
   "metadata": {
    "id": "YuKNTVkA8yon"
   },
   "source": [
    "### Seller cut-off analysis"
   ]
  },
  {
   "cell_type": "code",
   "execution_count": null,
   "metadata": {
    "colab": {
     "base_uri": "https://localhost:8080/",
     "height": 316
    },
    "executionInfo": {
     "elapsed": 749,
     "status": "ok",
     "timestamp": 1661439170002,
     "user": {
      "displayName": "Pornpan Thongdee",
      "userId": "11899703157533885911"
     },
     "user_tz": -420
    },
    "id": "-OeiBSIL8yon",
    "outputId": "df797d68-a295-4b65-81f2-096526957b27"
   },
   "outputs": [],
   "source": [
    "sns.histplot(sellers.profits, kde=False)"
   ]
  },
  {
   "cell_type": "code",
   "execution_count": null,
   "metadata": {
    "colab": {
     "base_uri": "https://localhost:8080/",
     "height": 221
    },
    "executionInfo": {
     "elapsed": 14,
     "status": "ok",
     "timestamp": 1661439170003,
     "user": {
      "displayName": "Pornpan Thongdee",
      "userId": "11899703157533885911"
     },
     "user_tz": -420
    },
    "id": "89xYHllZ8yon",
    "outputId": "433c3679-4141-434c-cd57-c5e76acdee1d"
   },
   "outputs": [],
   "source": [
    "sorted_sellers = sellers.sort_values(by='profits')[['profits', 'n_orders', 'revenues']].reset_index()\n",
    "sorted_sellers.head()"
   ]
  },
  {
   "cell_type": "code",
   "execution_count": null,
   "metadata": {
    "colab": {
     "base_uri": "https://localhost:8080/",
     "height": 290
    },
    "executionInfo": {
     "elapsed": 11,
     "status": "ok",
     "timestamp": 1661439170004,
     "user": {
      "displayName": "Pornpan Thongdee",
      "userId": "11899703157533885911"
     },
     "user_tz": -420
    },
    "id": "KrxT6HgA8yon",
    "outputId": "e396c38e-dbbe-42fc-cd90-e60aedf1039c"
   },
   "outputs": [],
   "source": [
    "sorted_sellers.profits.plot();"
   ]
  },
  {
   "cell_type": "markdown",
   "metadata": {
    "id": "1QNiR8tN8yoo"
   },
   "source": [
    "#### Compute Olist's net_profits for various seller cut-offs"
   ]
  },
  {
   "cell_type": "markdown",
   "metadata": {
    "id": "wmVsyevK8yoo"
   },
   "source": [
    "Create arrays `xxx_per_seller_removed` which list the `xxx` value for each number of sellers removed (from 1 to 3000 sellers)\n"
   ]
  },
  {
   "cell_type": "code",
   "execution_count": null,
   "metadata": {
    "colab": {
     "base_uri": "https://localhost:8080/",
     "height": 333
    },
    "executionInfo": {
     "elapsed": 715,
     "status": "ok",
     "timestamp": 1661439170710,
     "user": {
      "displayName": "Pornpan Thongdee",
      "userId": "11899703157533885911"
     },
     "user_tz": -420
    },
    "id": "m1n1pgGJ8yoo",
    "outputId": "8939659c-12bd-406b-d22e-3adbea94ae79"
   },
   "outputs": [],
   "source": [
    "# Analysis excluding IT costs\n",
    "revenues_per_seller_removed = olist_revenues - np.cumsum(sorted_sellers.revenues)\n",
    "gross_profits_per_seller_removed = olist_gross_profits - np.cumsum(sorted_sellers.profits)\n",
    "\n",
    "gross_profits_per_seller_removed.plot()\n",
    "plt.title('Olist gross profit before IT costs')\n",
    "plt.xlabel('number of seller to remove')"
   ]
  },
  {
   "cell_type": "code",
   "execution_count": null,
   "metadata": {
    "colab": {
     "base_uri": "https://localhost:8080/"
    },
    "executionInfo": {
     "elapsed": 24,
     "status": "ok",
     "timestamp": 1661439170710,
     "user": {
      "displayName": "Pornpan Thongdee",
      "userId": "11899703157533885911"
     },
     "user_tz": -420
    },
    "id": "ctJOYl838yoo",
    "outputId": "f865d562-47aa-4504-e06e-c9b238056973"
   },
   "outputs": [],
   "source": [
    "# Add the IT costs of Olist's platform\n",
    "# IT costs =  A * (n_orders)**0.5\n",
    "\n",
    "# First, compute A\n",
    "A = olist_it_costs_all_orders / (sellers['n_orders'].sum()**0.5)\n",
    "A"
   ]
  },
  {
   "cell_type": "code",
   "execution_count": null,
   "metadata": {
    "colab": {
     "base_uri": "https://localhost:8080/",
     "height": 316
    },
    "executionInfo": {
     "elapsed": 12,
     "status": "ok",
     "timestamp": 1661439170711,
     "user": {
      "displayName": "Pornpan Thongdee",
      "userId": "11899703157533885911"
     },
     "user_tz": -420
    },
    "id": "kMNncJlo8yoo",
    "outputId": "79bb1f9e-fb80-434d-c95e-b1a271f61019"
   },
   "outputs": [],
   "source": [
    "# Then, compute n_order per scenario\n",
    "n_orders_per_seller_removed = sorted_sellers.n_orders.sum() - np.cumsum(sorted_sellers.n_orders)\n",
    "plt.plot(n_orders_per_seller_removed)\n",
    "plt.title('Total number of orders'); plt.xlabel('number of seller to remove');"
   ]
  },
  {
   "cell_type": "code",
   "execution_count": null,
   "metadata": {
    "colab": {
     "base_uri": "https://localhost:8080/",
     "height": 316
    },
    "executionInfo": {
     "elapsed": 10,
     "status": "ok",
     "timestamp": 1661439170711,
     "user": {
      "displayName": "Pornpan Thongdee",
      "userId": "11899703157533885911"
     },
     "user_tz": -420
    },
    "id": "Dv-_B6om8yoo",
    "outputId": "3a40145b-fcf6-49ed-802e-02c43afb29bd"
   },
   "outputs": [],
   "source": [
    "# Create array of it_costs per scenario\n",
    "it_costs_per_seller_removed = A * n_orders_per_seller_removed**0.5\n",
    "plt.plot(it_costs_per_seller_removed)\n",
    "plt.title('IT costs'); plt.xlabel('number of seller to remove');"
   ]
  },
  {
   "cell_type": "code",
   "execution_count": null,
   "metadata": {
    "executionInfo": {
     "elapsed": 10,
     "status": "ok",
     "timestamp": 1661439170712,
     "user": {
      "displayName": "Pornpan Thongdee",
      "userId": "11899703157533885911"
     },
     "user_tz": -420
    },
    "id": "gKkytULU8yoo"
   },
   "outputs": [],
   "source": [
    "# Compute final metrics (profits and margin, for each scenario!)\n",
    "profits_per_seller_removed = gross_profits_per_seller_removed - it_costs_per_seller_removed\n",
    "margin_per_seller_removed = profits_per_seller_removed / revenues_per_seller_removed"
   ]
  },
  {
   "cell_type": "code",
   "execution_count": null,
   "metadata": {
    "colab": {
     "base_uri": "https://localhost:8080/",
     "height": 393
    },
    "executionInfo": {
     "elapsed": 980,
     "status": "ok",
     "timestamp": 1661439171683,
     "user": {
      "displayName": "Pornpan Thongdee",
      "userId": "11899703157533885911"
     },
     "user_tz": -420
    },
    "id": "jkBb6kRU8yoo",
    "outputId": "d455885c-3b36-41bb-e861-8e25e55ca6fb"
   },
   "outputs": [],
   "source": [
    "fig, ax1 = plt.subplots(figsize=(10,5))\n",
    "x = np.arange(0, len(sellers), 1)\n",
    "\n",
    "plt.suptitle(\"Estimated impact of having excluding selected sellers from Olist, over the past 16 months\")\n",
    "\n",
    "ax1.set_xlabel('number of seller to remove from olist - from worse to most profitable')\n",
    "ax1.set_ylabel('BRL')\n",
    "ax1.plot(x, profits_per_seller_removed, color='black', label='Olist net profits')\n",
    "ax1.plot(x, revenues_per_seller_removed, color='blue', label='Olist total revenues')\n",
    "ax1.legend()\n",
    "ax1.tick_params(axis='y')\n",
    "ax1.legend()\n",
    "ax1.set(ylim=[0,3000000])\n",
    "\n",
    "\n",
    "ax3 = ax1.twinx()  # instantiate a second axes that shares the same x-axis\n",
    "\n",
    "color = 'tab:red'\n",
    "ax3.set_ylabel('%', color=color)  # we already handled the x-label with ax1\n",
    "ax3.plot(x, margin_per_seller_removed, color='red', label='Olist profit margin')\n",
    "ax3.tick_params(axis='y', labelcolor=color)\n",
    "ax3.legend(loc='right')\n",
    "ax3.set(ylim=[0,1])\n",
    "\n",
    "fig.tight_layout()  # otherwise the right y-label is slightly clipped\n",
    "plt.show()"
   ]
  },
  {
   "cell_type": "markdown",
   "metadata": {
    "id": "l2Q-1rtu8yop"
   },
   "source": [
    "☝️We can clearly see a trade-off with a maximim net_profit at around 500 sellers removed, and a maximum margin at about 2000 sellers removed. Beyond this, the margin collapses due to IT costs."
   ]
  },
  {
   "cell_type": "markdown",
   "metadata": {
    "id": "zF8BXpzr8yop",
    "tags": [
     "delete_end"
    ]
   },
   "source": [
    "🔎 Going further, we should improve this analysis by taking into account the dynamics: Olist does not know in advance a seller's performance. \n",
    "\n",
    "**Sellers should only be removed from the platform after they have been receiving bad reviews for a given period.**"
   ]
  },
  {
   "cell_type": "markdown",
   "metadata": {
    "id": "p23k-V5Jo76f"
   },
   "source": [
    "## **Should Olist remove underperforming products/categories from its marketplace?**"
   ]
  },
  {
   "cell_type": "markdown",
   "metadata": {
    "id": "baZalsJloy4Y"
   },
   "source": [
    "## Product ##"
   ]
  },
  {
   "cell_type": "code",
   "execution_count": null,
   "metadata": {
    "colab": {
     "base_uri": "https://localhost:8080/"
    },
    "executionInfo": {
     "elapsed": 3591,
     "status": "ok",
     "timestamp": 1661439175265,
     "user": {
      "displayName": "Pornpan Thongdee",
      "userId": "11899703157533885911"
     },
     "user_tz": -420
    },
    "id": "Yx3ExqxZoxTm",
    "outputId": "87c5d433-cd89-436a-b1b4-75a6637e9356"
   },
   "outputs": [],
   "source": [
    "from olist.product_updated import Product\n",
    "product = Product()\n",
    "products = product.get_training_data()\n",
    "products.shape"
   ]
  },
  {
   "cell_type": "code",
   "execution_count": null,
   "metadata": {
    "colab": {
     "base_uri": "https://localhost:8080/",
     "height": 221
    },
    "executionInfo": {
     "elapsed": 75,
     "status": "ok",
     "timestamp": 1661439175269,
     "user": {
      "displayName": "Pornpan Thongdee",
      "userId": "11899703157533885911"
     },
     "user_tz": -420
    },
    "id": "RF5KRMpKonCj",
    "outputId": "a8038714-ff6a-46e6-8f64-9868b02ade3b"
   },
   "outputs": [],
   "source": [
    "sorted_products = products.sort_values(by='profits')[['profits', 'n_orders', 'revenues']].reset_index()\n",
    "sorted_products.head()"
   ]
  },
  {
   "cell_type": "code",
   "execution_count": null,
   "metadata": {
    "colab": {
     "base_uri": "https://localhost:8080/"
    },
    "executionInfo": {
     "elapsed": 60,
     "status": "ok",
     "timestamp": 1661439175269,
     "user": {
      "displayName": "Pornpan Thongdee",
      "userId": "11899703157533885911"
     },
     "user_tz": -420
    },
    "id": "taS9Bv9BonoB",
    "outputId": "11311369-7e65-428b-f667-ad80c0f57209"
   },
   "outputs": [],
   "source": [
    "olist_revenues_from_monthly_subscriptions = sellers.months_on_olist.sum()*80\n",
    "olist_revenues_from_monthly_subscriptions"
   ]
  },
  {
   "cell_type": "code",
   "execution_count": null,
   "metadata": {
    "colab": {
     "base_uri": "https://localhost:8080/"
    },
    "executionInfo": {
     "elapsed": 50,
     "status": "ok",
     "timestamp": 1661439175270,
     "user": {
      "displayName": "Pornpan Thongdee",
      "userId": "11899703157533885911"
     },
     "user_tz": -420
    },
    "id": "yvgvLKtmpMd6",
    "outputId": "ab0cf257-e5ac-450b-9b26-c00a3ce7880d"
   },
   "outputs": [],
   "source": [
    "olist_revenues = products.revenues.sum() + olist_revenues_from_monthly_subscriptions\n",
    "olist_gross_profits = olist_revenues - products.cost_of_reviews.sum()\n",
    "olist_gross_profits"
   ]
  },
  {
   "cell_type": "code",
   "execution_count": null,
   "metadata": {
    "colab": {
     "base_uri": "https://localhost:8080/",
     "height": 302
    },
    "executionInfo": {
     "elapsed": 42,
     "status": "ok",
     "timestamp": 1661439175271,
     "user": {
      "displayName": "Pornpan Thongdee",
      "userId": "11899703157533885911"
     },
     "user_tz": -420
    },
    "id": "DIHH2QgGpOwS",
    "outputId": "887955fd-fb2b-4834-e7a0-372a067a1164"
   },
   "outputs": [],
   "source": [
    "sorted_products.profits.plot()"
   ]
  },
  {
   "cell_type": "markdown",
   "metadata": {
    "id": "D6rTs-J3psln"
   },
   "source": [
    "#### Compute Olist's net_profits for various seller cut-offs"
   ]
  },
  {
   "cell_type": "code",
   "execution_count": null,
   "metadata": {
    "colab": {
     "base_uri": "https://localhost:8080/",
     "height": 333
    },
    "executionInfo": {
     "elapsed": 33,
     "status": "ok",
     "timestamp": 1661439175271,
     "user": {
      "displayName": "Pornpan Thongdee",
      "userId": "11899703157533885911"
     },
     "user_tz": -420
    },
    "id": "-6dk5x4OptFP",
    "outputId": "c9ffb8a9-ae81-46df-a22f-de6854eab096"
   },
   "outputs": [],
   "source": [
    "# Analysis excluding IT costs\n",
    "revenues_per_product_removed = olist_revenues - np.cumsum(sorted_products.revenues)\n",
    "gross_profits_per_product_removed = olist_gross_profits - np.cumsum(sorted_products.profits)\n",
    "\n",
    "gross_profits_per_product_removed.plot()\n",
    "plt.title('Olist gross profit before IT costs ')\n",
    "plt.xlabel('number of products to remove')"
   ]
  },
  {
   "cell_type": "code",
   "execution_count": null,
   "metadata": {
    "colab": {
     "base_uri": "https://localhost:8080/"
    },
    "executionInfo": {
     "elapsed": 27,
     "status": "ok",
     "timestamp": 1661439175274,
     "user": {
      "displayName": "Pornpan Thongdee",
      "userId": "11899703157533885911"
     },
     "user_tz": -420
    },
    "id": "8Hku4J-ZpxDy",
    "outputId": "47c63a6e-ca66-4b78-bee6-d707d74b7824"
   },
   "outputs": [],
   "source": [
    "# Add the IT costs of Olist's platform\n",
    "# IT costs =  A * (n_orders)**0.5\n",
    "\n",
    "# First, compute A\n",
    "olist_it_costs_all_orders = 500000\n",
    "A = olist_it_costs_all_orders / (sellers['n_orders'].sum()**0.5)\n",
    "A"
   ]
  },
  {
   "cell_type": "code",
   "execution_count": null,
   "metadata": {
    "colab": {
     "base_uri": "https://localhost:8080/",
     "height": 316
    },
    "executionInfo": {
     "elapsed": 20,
     "status": "ok",
     "timestamp": 1661439175274,
     "user": {
      "displayName": "Pornpan Thongdee",
      "userId": "11899703157533885911"
     },
     "user_tz": -420
    },
    "id": "6Mr4J2bvp0hI",
    "outputId": "3cc21ac9-88f7-40f2-d4c5-723b8a1b1558"
   },
   "outputs": [],
   "source": [
    "# Then, compute n_order per scenario\n",
    "n_orders_per_product_removed = sorted_products.n_orders.sum() - np.cumsum(sorted_products.n_orders)\n",
    "plt.plot(n_orders_per_product_removed)\n",
    "plt.title('Total number of orders'); plt.xlabel('number of products to remove');"
   ]
  },
  {
   "cell_type": "code",
   "execution_count": null,
   "metadata": {
    "colab": {
     "base_uri": "https://localhost:8080/",
     "height": 316
    },
    "executionInfo": {
     "elapsed": 907,
     "status": "ok",
     "timestamp": 1661439176162,
     "user": {
      "displayName": "Pornpan Thongdee",
      "userId": "11899703157533885911"
     },
     "user_tz": -420
    },
    "id": "64ZNm2DSp3fT",
    "outputId": "3cc49d6c-34d8-494d-d269-c85ee85acb3f"
   },
   "outputs": [],
   "source": [
    "# Create array of it_costs per scenario\n",
    "it_costs_per_product_removed = A * n_orders_per_product_removed**0.5\n",
    "plt.plot(it_costs_per_product_removed)\n",
    "plt.title('IT costs'); plt.xlabel('number of product to remove');"
   ]
  },
  {
   "cell_type": "code",
   "execution_count": null,
   "metadata": {
    "executionInfo": {
     "elapsed": 20,
     "status": "ok",
     "timestamp": 1661439176163,
     "user": {
      "displayName": "Pornpan Thongdee",
      "userId": "11899703157533885911"
     },
     "user_tz": -420
    },
    "id": "qMBnamqgp59U"
   },
   "outputs": [],
   "source": [
    "# Compute final metrics (profits and margin, for each scenario)\n",
    "profits_per_product_removed = gross_profits_per_product_removed - it_costs_per_product_removed\n",
    "margin_per_product_removed = profits_per_product_removed / revenues_per_product_removed"
   ]
  },
  {
   "cell_type": "code",
   "execution_count": null,
   "metadata": {
    "colab": {
     "base_uri": "https://localhost:8080/",
     "height": 393
    },
    "executionInfo": {
     "elapsed": 18,
     "status": "ok",
     "timestamp": 1661439176163,
     "user": {
      "displayName": "Pornpan Thongdee",
      "userId": "11899703157533885911"
     },
     "user_tz": -420
    },
    "id": "aD4AKNZFp8So",
    "outputId": "7ff03a35-85cd-4079-a8ae-314c75cfc855"
   },
   "outputs": [],
   "source": [
    "fig, ax1 = plt.subplots(figsize=(10,5))\n",
    "x = np.arange(0, len(products), 1)\n",
    "\n",
    "plt.suptitle(\"Estimated impact of having excluding selected products from Olist, over the past 16 months\")\n",
    "\n",
    "ax1.set_xlabel('number of product to remove from olist - from worse to most profitable')\n",
    "ax1.set_ylabel('BRL')\n",
    "ax1.plot(x, profits_per_product_removed, color='black', label='Olist net profits')\n",
    "ax1.plot(x, revenues_per_product_removed, color='blue', label='Olist total revenues')\n",
    "ax1.tick_params(axis='y')\n",
    "ax1.legend(loc='center right')\n",
    "ax1.set(ylim=[0,3000000])\n",
    "\n",
    "\n",
    "ax3 = ax1.twinx()  # instantiate a second axes that shares the same x-axis\n",
    "\n",
    "color = 'tab:red'\n",
    "ax3.set_ylabel('%', color=color)  # we already handled the x-label with ax1\n",
    "ax3.plot(x, margin_per_product_removed, color='red', label='Olist profit margin')\n",
    "ax3.tick_params(axis='y', labelcolor=color)\n",
    "ax3.legend(loc='upper right')\n",
    "ax3.set(ylim=[0,1])\n",
    "\n",
    "fig.tight_layout()  # otherwise the right y-label is slightly clipped\n",
    "plt.show()"
   ]
  },
  {
   "cell_type": "markdown",
   "metadata": {
    "id": "x6BPb7qVqBc0"
   },
   "source": [
    "☝️ This is only a partial analysis: by cutting too many products out of olist, we cannot plausibly expect sellers to pay their monthly fee! \n",
    "\n",
    "**A cross-analysis between sellers and products is required**"
   ]
  }
 ],
 "metadata": {
  "colab": {
   "collapsed_sections": [],
   "name": "CEO_request.ipynb",
   "provenance": []
  },
  "kernelspec": {
   "display_name": "Python 3",
   "language": "python",
   "name": "python3"
  },
  "language_info": {
   "codemirror_mode": {
    "name": "ipython",
    "version": 3
   },
   "file_extension": ".py",
   "mimetype": "text/x-python",
   "name": "python",
   "nbconvert_exporter": "python",
   "pygments_lexer": "ipython3",
   "version": "3.8.8"
  },
  "toc": {
   "base_numbering": 1,
   "nav_menu": {},
   "number_sections": true,
   "sideBar": true,
   "skip_h1_title": false,
   "title_cell": "Table of Contents",
   "title_sidebar": "Contents",
   "toc_cell": false,
   "toc_position": {},
   "toc_section_display": true,
   "toc_window_display": false
  },
  "vscode": {
   "interpreter": {
    "hash": "aee8b7b246df8f9039afb4144a1f6fd8d2ca17a180786b69acc140d282b71a49"
   }
  }
 },
 "nbformat": 4,
 "nbformat_minor": 1
}
