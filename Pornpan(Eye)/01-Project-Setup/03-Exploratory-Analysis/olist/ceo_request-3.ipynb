{
 "cells": [
  {
   "cell_type": "markdown",
   "metadata": {
    "slideshow": {
     "slide_type": "slide"
    }
   },
   "source": [
    "# CEO-Request Challenge"
   ]
  },
  {
   "cell_type": "markdown",
   "metadata": {
    "slideshow": {
     "slide_type": "slide"
    }
   },
   "source": [
    "## 1. Problem statement (summarized)\n",
    "\n",
    ">❓ How should Olist improve its profit margin ❓, given that it has \n",
    "> - some revenues per sellers per months\n",
    "> - some revenues per orders\n",
    "> - some reputation costs (estimated) per bad reviews\n",
    "> - some operational costs of IT system that grows with number of orders, but not linearly (scale effects)\n",
    "\n",
    "\n",
    "Let's recap our key findings so far :\n",
    "- We have seen that `wait_time` was the most significant factor behind low review scores, but reading comments of the bad reviews also showed that some of them were linked to the seller or to the product itself.\n",
    "- `wait_time` is made up of seller's `delay_to_carrier` + `carrier_delivery_time`. The latter being outside of Olist's direct control, improving it is not a quick-win recommendation we can make to Olist CEO without in-depth analysis of their operational practices.\n",
    "- On the contrary, a better selection of `sellers` can positively impact the `delay_to_carrier` and reduce the number of bad `review_scores` on Olist.\n",
    "\n",
    "👉 We recommend you to start with the the seller analysis 1.1) below, but feel free to investigate into other hypothesis instead 1.2)"
   ]
  },
  {
   "cell_type": "code",
   "execution_count": 1,
   "metadata": {},
   "outputs": [],
   "source": [
    "import numpy as np\n",
    "import pandas as pd\n",
    "import matplotlib.pyplot as plt\n",
    "import seaborn as sns\n",
    "\n",
    "%load_ext autoreload\n",
    "%autoreload 2"
   ]
  },
  {
   "cell_type": "code",
   "execution_count": 2,
   "metadata": {},
   "outputs": [],
   "source": [
    "from olist.seller_updated import Seller as SellerUpdated\n",
    "sellers = SellerUpdated().get_training_data()\n",
    "#sellers"
   ]
  },
  {
   "cell_type": "code",
   "execution_count": 3,
   "metadata": {},
   "outputs": [],
   "source": [
    "from olist.order import Order\n",
    "orders = Order().get_training_data(with_distance_seller_customer=True)\n",
    "#orders.head()"
   ]
  },
  {
   "cell_type": "code",
   "execution_count": 4,
   "metadata": {},
   "outputs": [],
   "source": [
    "from olist.order_updated import Order\n",
    "orders1 = Order().get_training_data(with_distance_seller_customer=True)\n",
    "#orders1.head()"
   ]
  },
  {
   "cell_type": "code",
   "execution_count": null,
   "metadata": {
    "slideshow": {
     "slide_type": "-"
    }
   },
   "outputs": [],
   "source": []
  },
  {
   "cell_type": "code",
   "execution_count": 6,
   "metadata": {},
   "outputs": [],
   "source": [
    "orders1['order_purchase_timestamp']=orders1['order_purchase_timestamp'].astype('datetime64')"
   ]
  },
  {
   "cell_type": "code",
   "execution_count": 7,
   "metadata": {},
   "outputs": [],
   "source": [
    "orders1['order_purchase_month'] = orders1['order_purchase_timestamp'].dt.month\n",
    "#orders1.head()"
   ]
  },
  {
   "cell_type": "code",
   "execution_count": 8,
   "metadata": {},
   "outputs": [
    {
     "data": {
      "text/html": [
       "<div>\n",
       "<style scoped>\n",
       "    .dataframe tbody tr th:only-of-type {\n",
       "        vertical-align: middle;\n",
       "    }\n",
       "\n",
       "    .dataframe tbody tr th {\n",
       "        vertical-align: top;\n",
       "    }\n",
       "\n",
       "    .dataframe thead th {\n",
       "        text-align: right;\n",
       "    }\n",
       "</style>\n",
       "<table border=\"1\" class=\"dataframe\">\n",
       "  <thead>\n",
       "    <tr style=\"text-align: right;\">\n",
       "      <th></th>\n",
       "      <th>order_id</th>\n",
       "      <th>wait_time_x</th>\n",
       "      <th>expected_wait_time</th>\n",
       "      <th>delay_vs_expected</th>\n",
       "      <th>order_status</th>\n",
       "      <th>dim_is_five_star</th>\n",
       "      <th>dim_is_one_star</th>\n",
       "      <th>review_score_x</th>\n",
       "      <th>number_of_products</th>\n",
       "      <th>number_of_sellers</th>\n",
       "      <th>...</th>\n",
       "      <th>share_of_one_stars</th>\n",
       "      <th>share_of_five_stars</th>\n",
       "      <th>review_score_y</th>\n",
       "      <th>cost_of_reviews</th>\n",
       "      <th>n_orders</th>\n",
       "      <th>quantity</th>\n",
       "      <th>quantity_per_order</th>\n",
       "      <th>sales</th>\n",
       "      <th>revenues</th>\n",
       "      <th>profits</th>\n",
       "    </tr>\n",
       "  </thead>\n",
       "  <tbody>\n",
       "    <tr>\n",
       "      <th>0</th>\n",
       "      <td>e481f51cbdc54678b7cc49136f2d6af7</td>\n",
       "      <td>8.436574</td>\n",
       "      <td>15.544063</td>\n",
       "      <td>0.000000</td>\n",
       "      <td>delivered</td>\n",
       "      <td>0</td>\n",
       "      <td>0</td>\n",
       "      <td>4</td>\n",
       "      <td>1</td>\n",
       "      <td>1</td>\n",
       "      <td>...</td>\n",
       "      <td>0.333333</td>\n",
       "      <td>0.333333</td>\n",
       "      <td>3.00</td>\n",
       "      <td>140</td>\n",
       "      <td>3</td>\n",
       "      <td>3</td>\n",
       "      <td>1.000000</td>\n",
       "      <td>218.70</td>\n",
       "      <td>320.0</td>\n",
       "      <td>180.0</td>\n",
       "    </tr>\n",
       "    <tr>\n",
       "      <th>1</th>\n",
       "      <td>53cdb2fc8bc7dce0b6741e2150273451</td>\n",
       "      <td>13.782037</td>\n",
       "      <td>19.137766</td>\n",
       "      <td>0.000000</td>\n",
       "      <td>delivered</td>\n",
       "      <td>0</td>\n",
       "      <td>0</td>\n",
       "      <td>4</td>\n",
       "      <td>1</td>\n",
       "      <td>1</td>\n",
       "      <td>...</td>\n",
       "      <td>0.050000</td>\n",
       "      <td>0.725000</td>\n",
       "      <td>4.55</td>\n",
       "      <td>240</td>\n",
       "      <td>40</td>\n",
       "      <td>41</td>\n",
       "      <td>1.025000</td>\n",
       "      <td>11703.07</td>\n",
       "      <td>1120.0</td>\n",
       "      <td>880.0</td>\n",
       "    </tr>\n",
       "    <tr>\n",
       "      <th>2</th>\n",
       "      <td>47770eb9100c2d0c44946d9cf07ec65d</td>\n",
       "      <td>9.394213</td>\n",
       "      <td>26.639711</td>\n",
       "      <td>0.000000</td>\n",
       "      <td>delivered</td>\n",
       "      <td>1</td>\n",
       "      <td>0</td>\n",
       "      <td>5</td>\n",
       "      <td>1</td>\n",
       "      <td>1</td>\n",
       "      <td>...</td>\n",
       "      <td>0.000000</td>\n",
       "      <td>1.000000</td>\n",
       "      <td>5.00</td>\n",
       "      <td>0</td>\n",
       "      <td>1</td>\n",
       "      <td>1</td>\n",
       "      <td>1.000000</td>\n",
       "      <td>158.00</td>\n",
       "      <td>0.0</td>\n",
       "      <td>0.0</td>\n",
       "    </tr>\n",
       "    <tr>\n",
       "      <th>3</th>\n",
       "      <td>949d5b44dbf5de918fe9c16f97b45f8a</td>\n",
       "      <td>13.208750</td>\n",
       "      <td>26.188819</td>\n",
       "      <td>0.000000</td>\n",
       "      <td>delivered</td>\n",
       "      <td>1</td>\n",
       "      <td>0</td>\n",
       "      <td>5</td>\n",
       "      <td>1</td>\n",
       "      <td>1</td>\n",
       "      <td>...</td>\n",
       "      <td>0.000000</td>\n",
       "      <td>1.000000</td>\n",
       "      <td>5.00</td>\n",
       "      <td>0</td>\n",
       "      <td>1</td>\n",
       "      <td>1</td>\n",
       "      <td>1.000000</td>\n",
       "      <td>79.99</td>\n",
       "      <td>0.0</td>\n",
       "      <td>0.0</td>\n",
       "    </tr>\n",
       "    <tr>\n",
       "      <th>4</th>\n",
       "      <td>ad21c59c0840e6cb83a9ceb5573f8159</td>\n",
       "      <td>2.873877</td>\n",
       "      <td>12.112049</td>\n",
       "      <td>0.000000</td>\n",
       "      <td>delivered</td>\n",
       "      <td>1</td>\n",
       "      <td>0</td>\n",
       "      <td>5</td>\n",
       "      <td>1</td>\n",
       "      <td>1</td>\n",
       "      <td>...</td>\n",
       "      <td>1.000000</td>\n",
       "      <td>0.000000</td>\n",
       "      <td>1.00</td>\n",
       "      <td>100</td>\n",
       "      <td>1</td>\n",
       "      <td>1</td>\n",
       "      <td>1.000000</td>\n",
       "      <td>167.99</td>\n",
       "      <td>0.0</td>\n",
       "      <td>-100.0</td>\n",
       "    </tr>\n",
       "    <tr>\n",
       "      <th>...</th>\n",
       "      <td>...</td>\n",
       "      <td>...</td>\n",
       "      <td>...</td>\n",
       "      <td>...</td>\n",
       "      <td>...</td>\n",
       "      <td>...</td>\n",
       "      <td>...</td>\n",
       "      <td>...</td>\n",
       "      <td>...</td>\n",
       "      <td>...</td>\n",
       "      <td>...</td>\n",
       "      <td>...</td>\n",
       "      <td>...</td>\n",
       "      <td>...</td>\n",
       "      <td>...</td>\n",
       "      <td>...</td>\n",
       "      <td>...</td>\n",
       "      <td>...</td>\n",
       "      <td>...</td>\n",
       "      <td>...</td>\n",
       "      <td>...</td>\n",
       "    </tr>\n",
       "    <tr>\n",
       "      <th>2961</th>\n",
       "      <td>397f4ed009841e83e71435ab9376cc8c</td>\n",
       "      <td>6.094537</td>\n",
       "      <td>31.227280</td>\n",
       "      <td>0.000000</td>\n",
       "      <td>delivered</td>\n",
       "      <td>1</td>\n",
       "      <td>0</td>\n",
       "      <td>5</td>\n",
       "      <td>1</td>\n",
       "      <td>1</td>\n",
       "      <td>...</td>\n",
       "      <td>0.000000</td>\n",
       "      <td>1.000000</td>\n",
       "      <td>5.00</td>\n",
       "      <td>0</td>\n",
       "      <td>2</td>\n",
       "      <td>2</td>\n",
       "      <td>1.000000</td>\n",
       "      <td>158.00</td>\n",
       "      <td>0.0</td>\n",
       "      <td>0.0</td>\n",
       "    </tr>\n",
       "    <tr>\n",
       "      <th>2962</th>\n",
       "      <td>4f39a94d6e474819d898d6df7d394996</td>\n",
       "      <td>143.893229</td>\n",
       "      <td>31.313854</td>\n",
       "      <td>112.579375</td>\n",
       "      <td>delivered</td>\n",
       "      <td>0</td>\n",
       "      <td>0</td>\n",
       "      <td>2</td>\n",
       "      <td>2</td>\n",
       "      <td>1</td>\n",
       "      <td>...</td>\n",
       "      <td>0.100000</td>\n",
       "      <td>0.500000</td>\n",
       "      <td>4.10</td>\n",
       "      <td>140</td>\n",
       "      <td>10</td>\n",
       "      <td>10</td>\n",
       "      <td>1.000000</td>\n",
       "      <td>889.00</td>\n",
       "      <td>1120.0</td>\n",
       "      <td>980.0</td>\n",
       "    </tr>\n",
       "    <tr>\n",
       "      <th>2963</th>\n",
       "      <td>223b2b4c06ffe3ced7307cad0ebd5e44</td>\n",
       "      <td>16.887894</td>\n",
       "      <td>29.034537</td>\n",
       "      <td>0.000000</td>\n",
       "      <td>delivered</td>\n",
       "      <td>1</td>\n",
       "      <td>0</td>\n",
       "      <td>5</td>\n",
       "      <td>1</td>\n",
       "      <td>1</td>\n",
       "      <td>...</td>\n",
       "      <td>0.000000</td>\n",
       "      <td>1.000000</td>\n",
       "      <td>5.00</td>\n",
       "      <td>0</td>\n",
       "      <td>6</td>\n",
       "      <td>7</td>\n",
       "      <td>1.166667</td>\n",
       "      <td>550.04</td>\n",
       "      <td>400.0</td>\n",
       "      <td>400.0</td>\n",
       "    </tr>\n",
       "    <tr>\n",
       "      <th>2964</th>\n",
       "      <td>cc85879fb8f1767ad9b67dbcfa113e7b</td>\n",
       "      <td>10.340220</td>\n",
       "      <td>26.439688</td>\n",
       "      <td>0.000000</td>\n",
       "      <td>delivered</td>\n",
       "      <td>1</td>\n",
       "      <td>0</td>\n",
       "      <td>5</td>\n",
       "      <td>1</td>\n",
       "      <td>1</td>\n",
       "      <td>...</td>\n",
       "      <td>0.000000</td>\n",
       "      <td>0.500000</td>\n",
       "      <td>4.25</td>\n",
       "      <td>50</td>\n",
       "      <td>8</td>\n",
       "      <td>11</td>\n",
       "      <td>1.375000</td>\n",
       "      <td>297.00</td>\n",
       "      <td>320.0</td>\n",
       "      <td>270.0</td>\n",
       "    </tr>\n",
       "    <tr>\n",
       "      <th>2965</th>\n",
       "      <td>cf3da3c7f3915ee38eb71471c6aac434</td>\n",
       "      <td>3.326354</td>\n",
       "      <td>5.585440</td>\n",
       "      <td>0.000000</td>\n",
       "      <td>delivered</td>\n",
       "      <td>1</td>\n",
       "      <td>0</td>\n",
       "      <td>5</td>\n",
       "      <td>1</td>\n",
       "      <td>1</td>\n",
       "      <td>...</td>\n",
       "      <td>0.000000</td>\n",
       "      <td>0.000000</td>\n",
       "      <td>4.00</td>\n",
       "      <td>0</td>\n",
       "      <td>1</td>\n",
       "      <td>1</td>\n",
       "      <td>1.000000</td>\n",
       "      <td>12.50</td>\n",
       "      <td>0.0</td>\n",
       "      <td>0.0</td>\n",
       "    </tr>\n",
       "  </tbody>\n",
       "</table>\n",
       "<p>2966 rows × 33 columns</p>\n",
       "</div>"
      ],
      "text/plain": [
       "                              order_id  wait_time_x  expected_wait_time  \\\n",
       "0     e481f51cbdc54678b7cc49136f2d6af7     8.436574           15.544063   \n",
       "1     53cdb2fc8bc7dce0b6741e2150273451    13.782037           19.137766   \n",
       "2     47770eb9100c2d0c44946d9cf07ec65d     9.394213           26.639711   \n",
       "3     949d5b44dbf5de918fe9c16f97b45f8a    13.208750           26.188819   \n",
       "4     ad21c59c0840e6cb83a9ceb5573f8159     2.873877           12.112049   \n",
       "...                                ...          ...                 ...   \n",
       "2961  397f4ed009841e83e71435ab9376cc8c     6.094537           31.227280   \n",
       "2962  4f39a94d6e474819d898d6df7d394996   143.893229           31.313854   \n",
       "2963  223b2b4c06ffe3ced7307cad0ebd5e44    16.887894           29.034537   \n",
       "2964  cc85879fb8f1767ad9b67dbcfa113e7b    10.340220           26.439688   \n",
       "2965  cf3da3c7f3915ee38eb71471c6aac434     3.326354            5.585440   \n",
       "\n",
       "      delay_vs_expected order_status  dim_is_five_star  dim_is_one_star  \\\n",
       "0              0.000000    delivered                 0                0   \n",
       "1              0.000000    delivered                 0                0   \n",
       "2              0.000000    delivered                 1                0   \n",
       "3              0.000000    delivered                 1                0   \n",
       "4              0.000000    delivered                 1                0   \n",
       "...                 ...          ...               ...              ...   \n",
       "2961           0.000000    delivered                 1                0   \n",
       "2962         112.579375    delivered                 0                0   \n",
       "2963           0.000000    delivered                 1                0   \n",
       "2964           0.000000    delivered                 1                0   \n",
       "2965           0.000000    delivered                 1                0   \n",
       "\n",
       "      review_score_x  number_of_products  number_of_sellers  ...  \\\n",
       "0                  4                   1                  1  ...   \n",
       "1                  4                   1                  1  ...   \n",
       "2                  5                   1                  1  ...   \n",
       "3                  5                   1                  1  ...   \n",
       "4                  5                   1                  1  ...   \n",
       "...              ...                 ...                ...  ...   \n",
       "2961               5                   1                  1  ...   \n",
       "2962               2                   2                  1  ...   \n",
       "2963               5                   1                  1  ...   \n",
       "2964               5                   1                  1  ...   \n",
       "2965               5                   1                  1  ...   \n",
       "\n",
       "      share_of_one_stars  share_of_five_stars  review_score_y cost_of_reviews  \\\n",
       "0               0.333333             0.333333            3.00             140   \n",
       "1               0.050000             0.725000            4.55             240   \n",
       "2               0.000000             1.000000            5.00               0   \n",
       "3               0.000000             1.000000            5.00               0   \n",
       "4               1.000000             0.000000            1.00             100   \n",
       "...                  ...                  ...             ...             ...   \n",
       "2961            0.000000             1.000000            5.00               0   \n",
       "2962            0.100000             0.500000            4.10             140   \n",
       "2963            0.000000             1.000000            5.00               0   \n",
       "2964            0.000000             0.500000            4.25              50   \n",
       "2965            0.000000             0.000000            4.00               0   \n",
       "\n",
       "     n_orders  quantity quantity_per_order     sales  revenues  profits  \n",
       "0           3         3           1.000000    218.70     320.0    180.0  \n",
       "1          40        41           1.025000  11703.07    1120.0    880.0  \n",
       "2           1         1           1.000000    158.00       0.0      0.0  \n",
       "3           1         1           1.000000     79.99       0.0      0.0  \n",
       "4           1         1           1.000000    167.99       0.0   -100.0  \n",
       "...       ...       ...                ...       ...       ...      ...  \n",
       "2961        2         2           1.000000    158.00       0.0      0.0  \n",
       "2962       10        10           1.000000    889.00    1120.0    980.0  \n",
       "2963        6         7           1.166667    550.04     400.0    400.0  \n",
       "2964        8        11           1.375000    297.00     320.0    270.0  \n",
       "2965        1         1           1.000000     12.50       0.0      0.0  \n",
       "\n",
       "[2966 rows x 33 columns]"
      ]
     },
     "execution_count": 8,
     "metadata": {},
     "output_type": "execute_result"
    }
   ],
   "source": [
    "os = orders1.merge(sellers,on=\"seller_id\")\n",
    "os"
   ]
  },
  {
   "cell_type": "code",
   "execution_count": 9,
   "metadata": {
    "slideshow": {
     "slide_type": "slide"
    }
   },
   "outputs": [],
   "source": [
    "\n",
    "# Increase prices\n",
    "# Protect profit \n",
    "# Stop discounting,Reduce your running costs\n",
    "# Add more sellers\n"
   ]
  },
  {
   "cell_type": "code",
   "execution_count": 10,
   "metadata": {
    "slideshow": {
     "slide_type": "slide"
    }
   },
   "outputs": [
    {
     "data": {
      "text/plain": [
       "[<matplotlib.lines.Line2D at 0x184ce4130>]"
      ]
     },
     "execution_count": 10,
     "metadata": {},
     "output_type": "execute_result"
    },
    {
     "data": {
      "image/png": "[encoded data removed]",
      "text/plain": [
       "<Figure size 432x288 with 1 Axes>"
      ]
     },
     "metadata": {
      "needs_background": "light"
     },
     "output_type": "display_data"
    }
   ],
   "source": [
    "# Find avg revenue amount per month for a seller\n",
    "# Grouping by seller_id & order_purchase_month, sum of all orders (by count and revenue) per seller per month\n",
    "\n",
    "\n",
    "total_revenue = os.groupby(['seller_id','order_purchase_month'], as_index=False)['price'].sum()\n",
    "\n",
    "#total_revenue\n",
    "\n",
    "x=total_revenue['seller_id']\n",
    "\n",
    "y1=total_revenue['order_purchase_month']\n",
    "\n",
    "y2=total_revenue['price']\n",
    "\n",
    "plt.ylabel('Total Revenue')\n",
    "plt.xlabel('Price')\n",
    "\n",
    "plt.plot(x,y2)\n",
    "\n"
   ]
  },
  {
   "cell_type": "code",
   "execution_count": 11,
   "metadata": {
    "slideshow": {
     "slide_type": "slide"
    }
   },
   "outputs": [
    {
     "data": {
      "text/plain": [
       "[<matplotlib.lines.Line2D at 0x17d55bc10>]"
      ]
     },
     "execution_count": 11,
     "metadata": {},
     "output_type": "execute_result"
    },
    {
     "data": {
      "image/png": "[encoded data removed]",
      "text/plain": [
       "<Figure size 432x288 with 1 Axes>"
      ]
     },
     "metadata": {
      "needs_background": "light"
     },
     "output_type": "display_data"
    }
   ],
   "source": [
    "# Count and revenue per seller per month\n",
    "\n",
    "total_orders = os.groupby(['seller_id','order_purchase_month'], as_index=False)['order_id'].count()\n",
    "total_orders\n",
    "\n",
    "x=total_orders['seller_id']\n",
    "\n",
    "y1=total_orders['order_purchase_month']\n",
    "\n",
    "y2=total_orders['order_id']\n",
    "\n",
    "plt.ylabel('Total Order')\n",
    "plt.xlabel('Seller ID')\n",
    "\n",
    "plt.plot(x,y1)\n",
    "\n",
    "\n",
    "\n",
    "\n"
   ]
  },
  {
   "cell_type": "code",
   "execution_count": 12,
   "metadata": {
    "slideshow": {
     "slide_type": "subslide"
    }
   },
   "outputs": [
    {
     "data": {
      "image/png": "[encoded data removed]",
      "text/plain": [
       "<Figure size 720x360 with 2 Axes>"
      ]
     },
     "metadata": {
      "needs_background": "light"
     },
     "output_type": "display_data"
    }
   ],
   "source": [
    "# Total_revenue\n",
    "# Total_orders\n",
    "\n",
    "\n",
    "import numpy as np\n",
    "import matplotlib.pyplot as plt\n",
    "\n",
    "# https://docs.scipy.org/doc/numpy-1.15.0/reference/routines.random.html\n",
    "a = np.random.randn(1000) # conforms to the normal distribution\n",
    "b = total_orders['order_purchase_month']\n",
    "\n",
    "fig = plt.figure(figsize=(10, 5))\n",
    "ax1 = fig.add_subplot(1, 2, 1)\n",
    "ax2 = fig.add_subplot(1, 2, 2)\n",
    "\n",
    "ax1.hist(a, bins=100)\n",
    "ax2.hist(b, bins=100)\n",
    "\n",
    "\n",
    "plt.xlabel('total_orders_month')\n",
    "plt.xlabel('total_purchase_month')\n",
    "\n",
    "\n",
    "fig.tight_layout()\n",
    "plt.show()"
   ]
  },
  {
   "cell_type": "code",
   "execution_count": 51,
   "metadata": {
    "slideshow": {
     "slide_type": "slide"
    }
   },
   "outputs": [
    {
     "data": {
      "text/plain": [
       "Text(0.5, 0, 'seller count')"
      ]
     },
     "execution_count": 51,
     "metadata": {},
     "output_type": "execute_result"
    },
    {
     "data": {
      "image/png": "[encoded data removed]",
      "text/plain": [
       "<Figure size 720x360 with 1 Axes>"
      ]
     },
     "metadata": {
      "needs_background": "light"
     },
     "output_type": "display_data"
    }
   ],
   "source": [
    "# Check profit per sellers\n",
    "\n",
    "sorted_sellers = sellers.sort_values(by='profits')[['profits', 'n_orders', 'revenues']].reset_index()\n",
    "#sorted_sellers.head()\n",
    "\n",
    "plt.figure(figsize=(10,5))\n",
    "\n",
    "sorted_sellers.profits.plot()\n",
    "\n",
    "plt.title('gross profit per seller')\n",
    "plt.xlabel('seller count')\n"
   ]
  },
  {
   "cell_type": "code",
   "execution_count": 33,
   "metadata": {},
   "outputs": [
    {
     "data": {
      "text/html": [
       "<div>\n",
       "<style scoped>\n",
       "    .dataframe tbody tr th:only-of-type {\n",
       "        vertical-align: middle;\n",
       "    }\n",
       "\n",
       "    .dataframe tbody tr th {\n",
       "        vertical-align: top;\n",
       "    }\n",
       "\n",
       "    .dataframe thead th {\n",
       "        text-align: right;\n",
       "    }\n",
       "</style>\n",
       "<table border=\"1\" class=\"dataframe\">\n",
       "  <thead>\n",
       "    <tr style=\"text-align: right;\">\n",
       "      <th></th>\n",
       "      <th>seller_id</th>\n",
       "      <th>seller_city</th>\n",
       "      <th>seller_state</th>\n",
       "      <th>delay_to_carrier</th>\n",
       "      <th>wait_time</th>\n",
       "      <th>date_first_sale</th>\n",
       "      <th>date_last_sale</th>\n",
       "      <th>months_on_olist</th>\n",
       "      <th>share_of_one_stars</th>\n",
       "      <th>share_of_five_stars</th>\n",
       "      <th>review_score</th>\n",
       "      <th>cost_of_reviews</th>\n",
       "      <th>n_orders</th>\n",
       "      <th>quantity</th>\n",
       "      <th>quantity_per_order</th>\n",
       "      <th>sales</th>\n",
       "      <th>revenues</th>\n",
       "      <th>profits</th>\n",
       "    </tr>\n",
       "  </thead>\n",
       "  <tbody>\n",
       "    <tr>\n",
       "      <th>2358</th>\n",
       "      <td>4a3ca9315b744ce9f8e9374361493884</td>\n",
       "      <td>ibitinga</td>\n",
       "      <td>SP</td>\n",
       "      <td>0.0</td>\n",
       "      <td>14.416471</td>\n",
       "      <td>2017-01-08 09:45:12</td>\n",
       "      <td>2018-08-27 11:04:18</td>\n",
       "      <td>20.0</td>\n",
       "      <td>0.143809</td>\n",
       "      <td>0.482510</td>\n",
       "      <td>3.827873</td>\n",
       "      <td>39400</td>\n",
       "      <td>1806</td>\n",
       "      <td>1987</td>\n",
       "      <td>1.100221</td>\n",
       "      <td>200472.92</td>\n",
       "      <td>1600.0</td>\n",
       "      <td>-37800.0</td>\n",
       "    </tr>\n",
       "    <tr>\n",
       "      <th>769</th>\n",
       "      <td>6560211a19b47992c3666cc44a7e94c0</td>\n",
       "      <td>sao paulo</td>\n",
       "      <td>SP</td>\n",
       "      <td>0.0</td>\n",
       "      <td>9.539486</td>\n",
       "      <td>2017-02-17 07:45:11</td>\n",
       "      <td>2018-08-29 09:25:12</td>\n",
       "      <td>18.0</td>\n",
       "      <td>0.124729</td>\n",
       "      <td>0.514100</td>\n",
       "      <td>3.937093</td>\n",
       "      <td>35290</td>\n",
       "      <td>1854</td>\n",
       "      <td>2033</td>\n",
       "      <td>1.096548</td>\n",
       "      <td>123304.83</td>\n",
       "      <td>1440.0</td>\n",
       "      <td>-33850.0</td>\n",
       "    </tr>\n",
       "    <tr>\n",
       "      <th>1357</th>\n",
       "      <td>cc419e0650a3c5ba77189a1882b7556a</td>\n",
       "      <td>santo andre</td>\n",
       "      <td>SP</td>\n",
       "      <td>0.0</td>\n",
       "      <td>11.539753</td>\n",
       "      <td>2017-02-02 17:10:21</td>\n",
       "      <td>2018-08-28 03:45:15</td>\n",
       "      <td>19.0</td>\n",
       "      <td>0.116092</td>\n",
       "      <td>0.584483</td>\n",
       "      <td>4.077586</td>\n",
       "      <td>29530</td>\n",
       "      <td>1706</td>\n",
       "      <td>1775</td>\n",
       "      <td>1.040445</td>\n",
       "      <td>104288.42</td>\n",
       "      <td>1520.0</td>\n",
       "      <td>-28010.0</td>\n",
       "    </tr>\n",
       "    <tr>\n",
       "      <th>1132</th>\n",
       "      <td>7c67e1448b00f6e969d365cea6b010ab</td>\n",
       "      <td>itaquaquecetuba</td>\n",
       "      <td>SP</td>\n",
       "      <td>0.0</td>\n",
       "      <td>22.392546</td>\n",
       "      <td>2017-01-26 22:55:10</td>\n",
       "      <td>2018-08-08 03:10:34</td>\n",
       "      <td>18.0</td>\n",
       "      <td>0.199593</td>\n",
       "      <td>0.351324</td>\n",
       "      <td>3.488798</td>\n",
       "      <td>28250</td>\n",
       "      <td>982</td>\n",
       "      <td>1364</td>\n",
       "      <td>1.389002</td>\n",
       "      <td>187923.89</td>\n",
       "      <td>1440.0</td>\n",
       "      <td>-26810.0</td>\n",
       "    </tr>\n",
       "    <tr>\n",
       "      <th>453</th>\n",
       "      <td>1f50f920176fa81dab994f9023523100</td>\n",
       "      <td>sao jose do rio preto</td>\n",
       "      <td>SP</td>\n",
       "      <td>0.0</td>\n",
       "      <td>15.571831</td>\n",
       "      <td>2017-04-03 22:15:14</td>\n",
       "      <td>2018-08-28 03:45:18</td>\n",
       "      <td>17.0</td>\n",
       "      <td>0.112536</td>\n",
       "      <td>0.600427</td>\n",
       "      <td>4.130342</td>\n",
       "      <td>21980</td>\n",
       "      <td>1404</td>\n",
       "      <td>1931</td>\n",
       "      <td>1.375356</td>\n",
       "      <td>106939.21</td>\n",
       "      <td>1360.0</td>\n",
       "      <td>-20620.0</td>\n",
       "    </tr>\n",
       "  </tbody>\n",
       "</table>\n",
       "</div>"
      ],
      "text/plain": [
       "                             seller_id            seller_city seller_state  \\\n",
       "2358  4a3ca9315b744ce9f8e9374361493884               ibitinga           SP   \n",
       "769   6560211a19b47992c3666cc44a7e94c0              sao paulo           SP   \n",
       "1357  cc419e0650a3c5ba77189a1882b7556a            santo andre           SP   \n",
       "1132  7c67e1448b00f6e969d365cea6b010ab        itaquaquecetuba           SP   \n",
       "453   1f50f920176fa81dab994f9023523100  sao jose do rio preto           SP   \n",
       "\n",
       "      delay_to_carrier  wait_time     date_first_sale      date_last_sale  \\\n",
       "2358               0.0  14.416471 2017-01-08 09:45:12 2018-08-27 11:04:18   \n",
       "769                0.0   9.539486 2017-02-17 07:45:11 2018-08-29 09:25:12   \n",
       "1357               0.0  11.539753 2017-02-02 17:10:21 2018-08-28 03:45:15   \n",
       "1132               0.0  22.392546 2017-01-26 22:55:10 2018-08-08 03:10:34   \n",
       "453                0.0  15.571831 2017-04-03 22:15:14 2018-08-28 03:45:18   \n",
       "\n",
       "      months_on_olist  share_of_one_stars  share_of_five_stars  review_score  \\\n",
       "2358             20.0            0.143809             0.482510      3.827873   \n",
       "769              18.0            0.124729             0.514100      3.937093   \n",
       "1357             19.0            0.116092             0.584483      4.077586   \n",
       "1132             18.0            0.199593             0.351324      3.488798   \n",
       "453              17.0            0.112536             0.600427      4.130342   \n",
       "\n",
       "      cost_of_reviews  n_orders  quantity  quantity_per_order      sales  \\\n",
       "2358            39400      1806      1987            1.100221  200472.92   \n",
       "769             35290      1854      2033            1.096548  123304.83   \n",
       "1357            29530      1706      1775            1.040445  104288.42   \n",
       "1132            28250       982      1364            1.389002  187923.89   \n",
       "453             21980      1404      1931            1.375356  106939.21   \n",
       "\n",
       "      revenues  profits  \n",
       "2358    1600.0 -37800.0  \n",
       "769     1440.0 -33850.0  \n",
       "1357    1520.0 -28010.0  \n",
       "1132    1440.0 -26810.0  \n",
       "453     1360.0 -20620.0  "
      ]
     },
     "execution_count": 33,
     "metadata": {},
     "output_type": "execute_result"
    }
   ],
   "source": [
    "sellers = sellers.sort_values(by = 'profits')\n",
    "\n",
    "profit = A * (sellers[:]['n_orders'].sum()**0.5)\n",
    "\n",
    "benef = sellers.profits.sum() - it_costs \n",
    "\n",
    "benef"
   ]
  },
  {
   "cell_type": "code",
   "execution_count": 34,
   "metadata": {},
   "outputs": [
    {
     "data": {
      "text/plain": [
       "1582.3973364219244"
      ]
     },
     "execution_count": 34,
     "metadata": {},
     "output_type": "execute_result"
    }
   ],
   "source": [
    "import math\n",
    "\n",
    "# it_costs = A * (sellers['n_orders'].sum()**0.5)\n",
    "it_costs = 500000\n",
    "\n",
    "num_orders = sellers['n_orders'].sum()\n",
    "\n",
    "A = it_costs / math.sqrt(num_orders)\n",
    "\n",
    "A"
   ]
  },
  {
   "cell_type": "code",
   "execution_count": 35,
   "metadata": {},
   "outputs": [
    {
     "data": {
      "text/plain": [
       "1582.3973364219244"
      ]
     },
     "execution_count": 35,
     "metadata": {},
     "output_type": "execute_result"
    }
   ],
   "source": [
    "import math\n",
    "\n",
    "# it_costs = A * (sellers['n_orders'].sum()**0.5)\n",
    "it_costs = 500000\n",
    "\n",
    "num_orders = sellers['n_orders'].sum()\n",
    "\n",
    "A = it_costs / math.sqrt(num_orders)\n",
    "\n",
    "A"
   ]
  },
  {
   "cell_type": "code",
   "execution_count": 36,
   "metadata": {},
   "outputs": [
    {
     "data": {
      "text/plain": [
       "-687970.0"
      ]
     },
     "execution_count": 36,
     "metadata": {},
     "output_type": "execute_result"
    }
   ],
   "source": [
    "# Profits - IT Costs\n",
    "\n",
    "it_costs = A * (sellers[:]['n_orders'].sum()**0.5)\n",
    "\n",
    "benef = sellers.profits.sum() - it_costs \n",
    "\n",
    "benef"
   ]
  },
  {
   "cell_type": "code",
   "execution_count": 16,
   "metadata": {},
   "outputs": [
    {
     "data": {
      "text/plain": [
       "[<matplotlib.lines.Line2D at 0x1802fea30>]"
      ]
     },
     "execution_count": 16,
     "metadata": {},
     "output_type": "execute_result"
    },
    {
     "data": {
      "image/png": "[encoded data removed]",
      "text/plain": [
       "<Figure size 432x288 with 1 Axes>"
      ]
     },
     "metadata": {
      "needs_background": "light"
     },
     "output_type": "display_data"
    }
   ],
   "source": [
    "combined = total_revenue.merge(total_orders, on=['seller_id','order_purchase_month'])\n",
    "combined\n",
    "\n",
    "x=combined['seller_id']\n",
    "\n",
    "y1=combined['order_purchase_month']\n",
    "\n",
    "\n",
    "\n",
    "# plt.ylabel('Total Order')\n",
    "# plt.xlabel('Selle ID')\n",
    "\n",
    "plt.plot(x,y1)"
   ]
  },
  {
   "cell_type": "code",
   "execution_count": 17,
   "metadata": {},
   "outputs": [],
   "source": [
    "# Iteratively removing worst sellers by slicing dataframe\n",
    "sellers_removed = []\n",
    "total_benefits = []\n",
    "\n",
    "for i in range(len(sellers)):\n",
    "    \n",
    "    # Recalculate benefits\n",
    "    benefits = sellers[i:].profits.sum() - A * (sellers[i:]['n_orders'].sum()**0.5)\n",
    "    \n",
    "    # Append recalculated profits and # of sellers removed to respective lists\n",
    "    total_benefits.append(benefits)\n",
    "    sellers_removed.append(i)"
   ]
  },
  {
   "cell_type": "code",
   "execution_count": 22,
   "metadata": {},
   "outputs": [
    {
     "data": {
      "text/html": [
       "<div>\n",
       "<style scoped>\n",
       "    .dataframe tbody tr th:only-of-type {\n",
       "        vertical-align: middle;\n",
       "    }\n",
       "\n",
       "    .dataframe tbody tr th {\n",
       "        vertical-align: top;\n",
       "    }\n",
       "\n",
       "    .dataframe thead th {\n",
       "        text-align: right;\n",
       "    }\n",
       "</style>\n",
       "<table border=\"1\" class=\"dataframe\">\n",
       "  <thead>\n",
       "    <tr style=\"text-align: right;\">\n",
       "      <th></th>\n",
       "      <th>seller_id</th>\n",
       "      <th>order_purchase_month</th>\n",
       "      <th>total_sales_amt</th>\n",
       "      <th>count_of_orders</th>\n",
       "    </tr>\n",
       "  </thead>\n",
       "  <tbody>\n",
       "    <tr>\n",
       "      <th>0</th>\n",
       "      <td>0015a82c2db000af6aaaf3ae2ecb0532</td>\n",
       "      <td>9</td>\n",
       "      <td>160.99</td>\n",
       "      <td>1</td>\n",
       "    </tr>\n",
       "    <tr>\n",
       "      <th>1</th>\n",
       "      <td>001cca7ae9ae17fb1caed9dfb1094831</td>\n",
       "      <td>6</td>\n",
       "      <td>150.00</td>\n",
       "      <td>1</td>\n",
       "    </tr>\n",
       "    <tr>\n",
       "      <th>2</th>\n",
       "      <td>002100f778ceb8431b7a1020ff7ab48f</td>\n",
       "      <td>4</td>\n",
       "      <td>480.65</td>\n",
       "      <td>1</td>\n",
       "    </tr>\n",
       "    <tr>\n",
       "      <th>3</th>\n",
       "      <td>003554e2dce176b5555353e4f3555ac8</td>\n",
       "      <td>12</td>\n",
       "      <td>37.90</td>\n",
       "      <td>1</td>\n",
       "    </tr>\n",
       "    <tr>\n",
       "      <th>4</th>\n",
       "      <td>004c9cd9d87a3c30c522c48c4fc07416</td>\n",
       "      <td>12</td>\n",
       "      <td>185.90</td>\n",
       "      <td>1</td>\n",
       "    </tr>\n",
       "    <tr>\n",
       "      <th>...</th>\n",
       "      <td>...</td>\n",
       "      <td>...</td>\n",
       "      <td>...</td>\n",
       "      <td>...</td>\n",
       "    </tr>\n",
       "    <tr>\n",
       "      <th>2961</th>\n",
       "      <td>ffc470761de7d0232558ba5e786e57b7</td>\n",
       "      <td>2</td>\n",
       "      <td>66.39</td>\n",
       "      <td>1</td>\n",
       "    </tr>\n",
       "    <tr>\n",
       "      <th>2962</th>\n",
       "      <td>ffdd9f82b9a447f6f8d4b91554cc7dd3</td>\n",
       "      <td>12</td>\n",
       "      <td>138.00</td>\n",
       "      <td>1</td>\n",
       "    </tr>\n",
       "    <tr>\n",
       "      <th>2963</th>\n",
       "      <td>ffeee66ac5d5a62fe688b9d26f83f534</td>\n",
       "      <td>5</td>\n",
       "      <td>6.00</td>\n",
       "      <td>1</td>\n",
       "    </tr>\n",
       "    <tr>\n",
       "      <th>2964</th>\n",
       "      <td>fffd5413c0700ac820c7069d66d98c89</td>\n",
       "      <td>9</td>\n",
       "      <td>259.90</td>\n",
       "      <td>1</td>\n",
       "    </tr>\n",
       "    <tr>\n",
       "      <th>2965</th>\n",
       "      <td>ffff564a4f9085cd26170f4732393726</td>\n",
       "      <td>8</td>\n",
       "      <td>120.00</td>\n",
       "      <td>1</td>\n",
       "    </tr>\n",
       "  </tbody>\n",
       "</table>\n",
       "<p>2966 rows × 4 columns</p>\n",
       "</div>"
      ],
      "text/plain": [
       "                             seller_id  order_purchase_month  total_sales_amt  \\\n",
       "0     0015a82c2db000af6aaaf3ae2ecb0532                     9           160.99   \n",
       "1     001cca7ae9ae17fb1caed9dfb1094831                     6           150.00   \n",
       "2     002100f778ceb8431b7a1020ff7ab48f                     4           480.65   \n",
       "3     003554e2dce176b5555353e4f3555ac8                    12            37.90   \n",
       "4     004c9cd9d87a3c30c522c48c4fc07416                    12           185.90   \n",
       "...                                ...                   ...              ...   \n",
       "2961  ffc470761de7d0232558ba5e786e57b7                     2            66.39   \n",
       "2962  ffdd9f82b9a447f6f8d4b91554cc7dd3                    12           138.00   \n",
       "2963  ffeee66ac5d5a62fe688b9d26f83f534                     5             6.00   \n",
       "2964  fffd5413c0700ac820c7069d66d98c89                     9           259.90   \n",
       "2965  ffff564a4f9085cd26170f4732393726                     8           120.00   \n",
       "\n",
       "      count_of_orders  \n",
       "0                   1  \n",
       "1                   1  \n",
       "2                   1  \n",
       "3                   1  \n",
       "4                   1  \n",
       "...               ...  \n",
       "2961                1  \n",
       "2962                1  \n",
       "2963                1  \n",
       "2964                1  \n",
       "2965                1  \n",
       "\n",
       "[2966 rows x 4 columns]"
      ]
     },
     "execution_count": 22,
     "metadata": {},
     "output_type": "execute_result"
    }
   ],
   "source": [
    "combined.rename(columns = {'price':'total_sales_amt','order_id':'count_of_orders'}, inplace=True)\n",
    "combined"
   ]
  },
  {
   "cell_type": "code",
   "execution_count": 23,
   "metadata": {
    "slideshow": {
     "slide_type": "slide"
    }
   },
   "outputs": [
    {
     "data": {
      "text/plain": [
       "Text(0, 0.5, 'total benefits')"
      ]
     },
     "execution_count": 23,
     "metadata": {},
     "output_type": "execute_result"
    },
    {
     "data": {
      "image/png": "[encoded data removed]",
      "text/plain": [
       "<Figure size 432x288 with 1 Axes>"
      ]
     },
     "metadata": {
      "needs_background": "light"
     },
     "output_type": "display_data"
    }
   ],
   "source": [
    "# Plot total benefits\n",
    "\n",
    "plt.plot(sellers_removed,total_benefits)\n",
    "plt.xlabel('sellers removed')\n",
    "plt.ylabel('total benefits')"
   ]
  },
  {
   "cell_type": "code",
   "execution_count": 29,
   "metadata": {
    "slideshow": {
     "slide_type": "slide"
    }
   },
   "outputs": [
    {
     "data": {
      "text/plain": [
       "[<matplotlib.lines.Line2D at 0x1826b8580>]"
      ]
     },
     "execution_count": 29,
     "metadata": {},
     "output_type": "execute_result"
    },
    {
     "data": {
      "image/png": "[encoded data removed]",
      "text/plain": [
       "<Figure size 432x288 with 1 Axes>"
      ]
     },
     "metadata": {
      "needs_background": "light"
     },
     "output_type": "display_data"
    }
   ],
   "source": [
    "# Sum_Monthly_Revenue \n",
    "\n",
    "\n",
    "monthly_revenue = combined.groupby('order_purchase_month', as_index=False)['total_sales_amt'].sum() \n",
    "\n",
    "\n",
    "x=monthly_revenue['order_purchase_month']\n",
    "\n",
    "y1=monthly_revenue['total_sales_amt']\n",
    "\n",
    "\n",
    "\n",
    "plt.ylabel('Order_purchase_month')\n",
    "plt.xlabel('Selle ID')\n",
    "\n",
    "plt.plot(x,y1)\n"
   ]
  },
  {
   "cell_type": "code",
   "execution_count": 45,
   "metadata": {},
   "outputs": [
    {
     "data": {
      "text/plain": [
       "[<matplotlib.lines.Line2D at 0x182ac02e0>]"
      ]
     },
     "execution_count": 45,
     "metadata": {},
     "output_type": "execute_result"
    },
    {
     "data": {
      "image/png": "[encoded data removed]",
      "text/plain": [
       "<Figure size 432x288 with 1 Axes>"
      ]
     },
     "metadata": {
      "needs_background": "light"
     },
     "output_type": "display_data"
    }
   ],
   "source": [
    "#seller_count\n",
    "\n",
    "seller_count = combined.groupby('order_purchase_month', as_index=False)['seller_id'].count()\n",
    "seller_count \n",
    "\n",
    "x=seller_count ['order_purchase_month']\n",
    "\n",
    "y1=seller_count ['seller_id']\n",
    "\n",
    "\n",
    "\n",
    "# plt.ylabel('avg_o')\n",
    "# plt.xlabel('Selle ID')\n",
    "\n",
    "plt.plot(x,y1)\n",
    "\n"
   ]
  },
  {
   "cell_type": "code",
   "execution_count": 41,
   "metadata": {
    "slideshow": {
     "slide_type": "-"
    }
   },
   "outputs": [
    {
     "data": {
      "text/plain": [
       "[<matplotlib.lines.Line2D at 0x182a5e9a0>]"
      ]
     },
     "execution_count": 41,
     "metadata": {},
     "output_type": "execute_result"
    },
    {
     "data": {
      "image/png": "[encoded data removed]",
      "text/plain": [
       "<Figure size 432x288 with 1 Axes>"
      ]
     },
     "metadata": {
      "needs_background": "light"
     },
     "output_type": "display_data"
    }
   ],
   "source": [
    "\n",
    "avg_seller_LTV = monthly_revenue.merge(seller_count, on='order_purchase_month')\n",
    "avg_seller_LTV \n",
    "\n",
    "x=avg_seller_LTV['order_purchase_month']\n",
    "y1=avg_seller_LTV['seller_id']\n",
    "y2=avg_seller_LTV['total_sales_amt']\n",
    "\n",
    "\n",
    "plt.plot(x,y1)\n",
    "\n"
   ]
  },
  {
   "cell_type": "code",
   "execution_count": 47,
   "metadata": {
    "slideshow": {
     "slide_type": "-"
    }
   },
   "outputs": [
    {
     "data": {
      "text/html": [
       "<div>\n",
       "<style scoped>\n",
       "    .dataframe tbody tr th:only-of-type {\n",
       "        vertical-align: middle;\n",
       "    }\n",
       "\n",
       "    .dataframe tbody tr th {\n",
       "        vertical-align: top;\n",
       "    }\n",
       "\n",
       "    .dataframe thead th {\n",
       "        text-align: right;\n",
       "    }\n",
       "</style>\n",
       "<table border=\"1\" class=\"dataframe\">\n",
       "  <thead>\n",
       "    <tr style=\"text-align: right;\">\n",
       "      <th></th>\n",
       "      <th>order_purchase_month</th>\n",
       "      <th>total_sales_amt</th>\n",
       "      <th>seller_count</th>\n",
       "    </tr>\n",
       "  </thead>\n",
       "  <tbody>\n",
       "    <tr>\n",
       "      <th>0</th>\n",
       "      <td>1</td>\n",
       "      <td>35769.54</td>\n",
       "      <td>251</td>\n",
       "    </tr>\n",
       "    <tr>\n",
       "      <th>1</th>\n",
       "      <td>2</td>\n",
       "      <td>31431.04</td>\n",
       "      <td>248</td>\n",
       "    </tr>\n",
       "    <tr>\n",
       "      <th>2</th>\n",
       "      <td>3</td>\n",
       "      <td>32172.54</td>\n",
       "      <td>293</td>\n",
       "    </tr>\n",
       "    <tr>\n",
       "      <th>3</th>\n",
       "      <td>4</td>\n",
       "      <td>37199.43</td>\n",
       "      <td>270</td>\n",
       "    </tr>\n",
       "    <tr>\n",
       "      <th>4</th>\n",
       "      <td>5</td>\n",
       "      <td>43603.76</td>\n",
       "      <td>330</td>\n",
       "    </tr>\n",
       "    <tr>\n",
       "      <th>5</th>\n",
       "      <td>6</td>\n",
       "      <td>46998.44</td>\n",
       "      <td>298</td>\n",
       "    </tr>\n",
       "    <tr>\n",
       "      <th>6</th>\n",
       "      <td>7</td>\n",
       "      <td>36694.65</td>\n",
       "      <td>302</td>\n",
       "    </tr>\n",
       "    <tr>\n",
       "      <th>7</th>\n",
       "      <td>8</td>\n",
       "      <td>46837.82</td>\n",
       "      <td>322</td>\n",
       "    </tr>\n",
       "    <tr>\n",
       "      <th>8</th>\n",
       "      <td>9</td>\n",
       "      <td>15539.48</td>\n",
       "      <td>118</td>\n",
       "    </tr>\n",
       "    <tr>\n",
       "      <th>9</th>\n",
       "      <td>10</td>\n",
       "      <td>17337.69</td>\n",
       "      <td>138</td>\n",
       "    </tr>\n",
       "    <tr>\n",
       "      <th>10</th>\n",
       "      <td>11</td>\n",
       "      <td>36094.42</td>\n",
       "      <td>237</td>\n",
       "    </tr>\n",
       "    <tr>\n",
       "      <th>11</th>\n",
       "      <td>12</td>\n",
       "      <td>21738.04</td>\n",
       "      <td>159</td>\n",
       "    </tr>\n",
       "  </tbody>\n",
       "</table>\n",
       "</div>"
      ],
      "text/plain": [
       "    order_purchase_month  total_sales_amt  seller_count\n",
       "0                      1         35769.54           251\n",
       "1                      2         31431.04           248\n",
       "2                      3         32172.54           293\n",
       "3                      4         37199.43           270\n",
       "4                      5         43603.76           330\n",
       "5                      6         46998.44           298\n",
       "6                      7         36694.65           302\n",
       "7                      8         46837.82           322\n",
       "8                      9         15539.48           118\n",
       "9                     10         17337.69           138\n",
       "10                    11         36094.42           237\n",
       "11                    12         21738.04           159"
      ]
     },
     "execution_count": 47,
     "metadata": {},
     "output_type": "execute_result"
    }
   ],
   "source": [
    "avg_seller_LTV.rename(columns = {'seller_id':'seller_count'}, inplace=True)\n",
    "avg_seller_LTV\n",
    "\n",
    "\n",
    "\n"
   ]
  },
  {
   "cell_type": "code",
   "execution_count": 48,
   "metadata": {},
   "outputs": [],
   "source": [
    "# avg_seller_LTV['avg_rev_per_seller'] = avg_seller_LTV['total_sales_amt'] / avg_seller_LTV['seller_count']\n",
    "# avg_seller_LTV\n",
    "\n",
    "\n",
    "\n",
    "\n"
   ]
  },
  {
   "cell_type": "code",
   "execution_count": null,
   "metadata": {},
   "outputs": [],
   "source": []
  },
  {
   "cell_type": "code",
   "execution_count": 49,
   "metadata": {},
   "outputs": [
    {
     "data": {
      "text/html": [
       "<div>\n",
       "<style scoped>\n",
       "    .dataframe tbody tr th:only-of-type {\n",
       "        vertical-align: middle;\n",
       "    }\n",
       "\n",
       "    .dataframe tbody tr th {\n",
       "        vertical-align: top;\n",
       "    }\n",
       "\n",
       "    .dataframe thead th {\n",
       "        text-align: right;\n",
       "    }\n",
       "</style>\n",
       "<table border=\"1\" class=\"dataframe\">\n",
       "  <thead>\n",
       "    <tr style=\"text-align: right;\">\n",
       "      <th></th>\n",
       "      <th>order_purchase_month</th>\n",
       "      <th>total_sales_amt</th>\n",
       "      <th>seller_count</th>\n",
       "      <th>avg_rev_per_seller</th>\n",
       "      <th>lifetime</th>\n",
       "      <th>seller_LTV</th>\n",
       "    </tr>\n",
       "  </thead>\n",
       "  <tbody>\n",
       "    <tr>\n",
       "      <th>0</th>\n",
       "      <td>1</td>\n",
       "      <td>35769.54</td>\n",
       "      <td>251</td>\n",
       "      <td>142.508127</td>\n",
       "      <td>7</td>\n",
       "      <td>997.556892</td>\n",
       "    </tr>\n",
       "    <tr>\n",
       "      <th>1</th>\n",
       "      <td>2</td>\n",
       "      <td>31431.04</td>\n",
       "      <td>248</td>\n",
       "      <td>126.738065</td>\n",
       "      <td>7</td>\n",
       "      <td>887.166452</td>\n",
       "    </tr>\n",
       "    <tr>\n",
       "      <th>2</th>\n",
       "      <td>3</td>\n",
       "      <td>32172.54</td>\n",
       "      <td>293</td>\n",
       "      <td>109.803891</td>\n",
       "      <td>7</td>\n",
       "      <td>768.627235</td>\n",
       "    </tr>\n",
       "    <tr>\n",
       "      <th>3</th>\n",
       "      <td>4</td>\n",
       "      <td>37199.43</td>\n",
       "      <td>270</td>\n",
       "      <td>137.775667</td>\n",
       "      <td>7</td>\n",
       "      <td>964.429667</td>\n",
       "    </tr>\n",
       "    <tr>\n",
       "      <th>4</th>\n",
       "      <td>5</td>\n",
       "      <td>43603.76</td>\n",
       "      <td>330</td>\n",
       "      <td>132.132606</td>\n",
       "      <td>7</td>\n",
       "      <td>924.928242</td>\n",
       "    </tr>\n",
       "    <tr>\n",
       "      <th>5</th>\n",
       "      <td>6</td>\n",
       "      <td>46998.44</td>\n",
       "      <td>298</td>\n",
       "      <td>157.712886</td>\n",
       "      <td>7</td>\n",
       "      <td>1103.990201</td>\n",
       "    </tr>\n",
       "    <tr>\n",
       "      <th>6</th>\n",
       "      <td>7</td>\n",
       "      <td>36694.65</td>\n",
       "      <td>302</td>\n",
       "      <td>121.505464</td>\n",
       "      <td>7</td>\n",
       "      <td>850.538245</td>\n",
       "    </tr>\n",
       "    <tr>\n",
       "      <th>7</th>\n",
       "      <td>8</td>\n",
       "      <td>46837.82</td>\n",
       "      <td>322</td>\n",
       "      <td>145.459068</td>\n",
       "      <td>7</td>\n",
       "      <td>1018.213478</td>\n",
       "    </tr>\n",
       "    <tr>\n",
       "      <th>8</th>\n",
       "      <td>9</td>\n",
       "      <td>15539.48</td>\n",
       "      <td>118</td>\n",
       "      <td>131.690508</td>\n",
       "      <td>7</td>\n",
       "      <td>921.833559</td>\n",
       "    </tr>\n",
       "    <tr>\n",
       "      <th>9</th>\n",
       "      <td>10</td>\n",
       "      <td>17337.69</td>\n",
       "      <td>138</td>\n",
       "      <td>125.635435</td>\n",
       "      <td>7</td>\n",
       "      <td>879.448043</td>\n",
       "    </tr>\n",
       "    <tr>\n",
       "      <th>10</th>\n",
       "      <td>11</td>\n",
       "      <td>36094.42</td>\n",
       "      <td>237</td>\n",
       "      <td>152.297131</td>\n",
       "      <td>7</td>\n",
       "      <td>1066.079916</td>\n",
       "    </tr>\n",
       "    <tr>\n",
       "      <th>11</th>\n",
       "      <td>12</td>\n",
       "      <td>21738.04</td>\n",
       "      <td>159</td>\n",
       "      <td>136.717233</td>\n",
       "      <td>7</td>\n",
       "      <td>957.020629</td>\n",
       "    </tr>\n",
       "  </tbody>\n",
       "</table>\n",
       "</div>"
      ],
      "text/plain": [
       "    order_purchase_month  total_sales_amt  seller_count  avg_rev_per_seller  \\\n",
       "0                      1         35769.54           251          142.508127   \n",
       "1                      2         31431.04           248          126.738065   \n",
       "2                      3         32172.54           293          109.803891   \n",
       "3                      4         37199.43           270          137.775667   \n",
       "4                      5         43603.76           330          132.132606   \n",
       "5                      6         46998.44           298          157.712886   \n",
       "6                      7         36694.65           302          121.505464   \n",
       "7                      8         46837.82           322          145.459068   \n",
       "8                      9         15539.48           118          131.690508   \n",
       "9                     10         17337.69           138          125.635435   \n",
       "10                    11         36094.42           237          152.297131   \n",
       "11                    12         21738.04           159          136.717233   \n",
       "\n",
       "    lifetime   seller_LTV  \n",
       "0          7   997.556892  \n",
       "1          7   887.166452  \n",
       "2          7   768.627235  \n",
       "3          7   964.429667  \n",
       "4          7   924.928242  \n",
       "5          7  1103.990201  \n",
       "6          7   850.538245  \n",
       "7          7  1018.213478  \n",
       "8          7   921.833559  \n",
       "9          7   879.448043  \n",
       "10         7  1066.079916  \n",
       "11         7   957.020629  "
      ]
     },
     "execution_count": 49,
     "metadata": {},
     "output_type": "execute_result"
    }
   ],
   "source": [
    "#revenues per sellers per months\n",
    "\n",
    "# Assume average of 7 months for each seller - provided\n",
    "\n",
    "# Find avg revenue amount per month for a seller\n",
    "\n",
    "# Grouping by seller_id & order_purchase_month, sum of all orders (by count and revenue) per seller per month\n",
    "total_revenue = os.groupby(['seller_id','order_purchase_month'], as_index=False)['price'].sum()\n",
    "total_orders = os.groupby(['seller_id','order_purchase_month'], as_index=False)['order_id'].count()\n",
    "\n",
    "# Combine queries to summarize\n",
    "combined = total_revenue.merge(total_orders, on=['seller_id','order_purchase_month'])\n",
    "combined.rename(columns = {'price':'total_sales_amt','order_id':'count_of_orders'}, inplace=True)\n",
    "\n",
    "# Calculate the average revenue per month for a seller\n",
    "\n",
    "# Total sales in month / total count of sellers = average revenue generated by seller per month\n",
    "monthly_revenue = combined.groupby('order_purchase_month', as_index=False)['total_sales_amt'].sum() \n",
    "seller_count = combined.groupby('order_purchase_month', as_index=False)['seller_id'].count()\n",
    "\n",
    "avg_seller_LTV = monthly_revenue.merge(seller_count, on='order_purchase_month')\n",
    "avg_seller_LTV.rename(columns = {'seller_id':'seller_count'}, inplace=True)\n",
    "avg_seller_LTV['avg_rev_per_seller'] = avg_seller_LTV['total_sales_amt'] / avg_seller_LTV['seller_count']\n",
    "\n",
    "# COMPLETE - AVG REVENUE PER SELLER EACH MONTH\n",
    "avg_seller_LTV['lifetime'] = 7\n",
    "avg_seller_LTV['seller_LTV'] = avg_seller_LTV['lifetime']*avg_seller_LTV['avg_rev_per_seller']\n",
    "avg_seller_LTV.to_csv('avg_seller_LTV.csv',index=True)\n",
    "avg_seller_LTV\n",
    "\n",
    "\n"
   ]
  },
  {
   "cell_type": "code",
   "execution_count": 50,
   "metadata": {
    "slideshow": {
     "slide_type": "slide"
    }
   },
   "outputs": [
    {
     "data": {
      "text/plain": [
       "[<matplotlib.lines.Line2D at 0x182b266a0>]"
      ]
     },
     "execution_count": 50,
     "metadata": {},
     "output_type": "execute_result"
    },
    {
     "data": {
      "image/png": "[encoded data removed]",
      "text/plain": [
       "<Figure size 432x288 with 1 Axes>"
      ]
     },
     "metadata": {
      "needs_background": "light"
     },
     "output_type": "display_data"
    }
   ],
   "source": [
    "x=avg_seller_LTV['order_purchase_month']\n",
    "y1=avg_seller_LTV['avg_rev_per_seller']\n",
    "y2=avg_seller_LTV['total_sales_amt']\n",
    "\n",
    "plt.ylabel('order_purchase_month')\n",
    "plt.xlabel('avg_rev_per_seller')\n",
    "\n",
    "\n",
    "plt.plot(x,y1)\n",
    "\n",
    "\n",
    "\n",
    "\n"
   ]
  },
  {
   "cell_type": "code",
   "execution_count": null,
   "metadata": {},
   "outputs": [],
   "source": [
    "#revenues per orders"
   ]
  },
  {
   "cell_type": "code",
   "execution_count": null,
   "metadata": {},
   "outputs": [],
   "source": [
    "#reputation costs (estimated) per bad reviews(**expensive to have bad review ***)"
   ]
  },
  {
   "cell_type": "code",
   "execution_count": null,
   "metadata": {},
   "outputs": [],
   "source": [
    "#perational costs of IT system that grows with number of orders, but not linearly (scale effects)"
   ]
  },
  {
   "cell_type": "markdown",
   "metadata": {},
   "source": [
    "### 1.1 (recommended) **Should Olist remove underperforming sellers from its marketplace ?** 🕵🏻"
   ]
  },
  {
   "cell_type": "markdown",
   "metadata": {},
   "source": [
    "To analyse the impact of removing the worse sellers from Olist's marketplace, we will perform a what-if analysis: What would have happened if Olist had never accepted these sellers in the first place? (granted, it's hard to know in advance who is a good seller, but let's start with this and iterate later).\n",
    "\n",
    "1️⃣ Compute, for each `seller_id`, and cumulated since the beginning:\n",
    "- the `revenues` it brings\n",
    "- the `costs` associated with all its bad reviews\n",
    "- the resulting `profits` (revenues - costs)\n",
    "- the number of `orders` (it will impact the overall IT costs)\n",
    "\n",
    "\n",
    "2️⃣ We can then:\n",
    "- sort sellers by increasing profits for Olist\n",
    "- for each number of sellers to remove, compute the financial impact it would have made if they had never been accepted on the platform. \n",
    "- we may find an optimal number of sellers to remove that maximizes Olist's profit margin\n",
    "\n",
    "👉 Write down a detailed strategy (step by step) to create the DataFrame you need for the first step.\n",
    "\n",
    "<br>\n",
    "\n",
    "<details>\n",
    "    <summary> <i>💡 Think about how to re-use or update the logic you've already coded in your 🗂 `olist` package</i> </summary>\n",
    "\n",
    "\n",
    "Starting from your current `seller().get_training_data()` DataFrame, can you easily transform it to compute:\n",
    "- Olist's positive `revenue_per_seller`? \n",
    "- Olist's `cost_of_bad_reviews`?\n",
    "\n",
    "You will orally present your insights to your favorite TA at the end of this unit `Communicate` \"\n",
    "</details>\n"
   ]
  },
  {
   "cell_type": "code",
   "execution_count": null,
   "metadata": {},
   "outputs": [],
   "source": [
    "# aggregate volume of orders per month, then merge to existing dataset that already contains revenue and seller counts\n",
    "order_count = combined.groupby('order_purchase_month', as_index=False)['count_of_orders'].sum()\n",
    "monthly_perf = avg_seller_LTV.merge(order_count, on='order_purchase_month')\n",
    "monthly_perf.to_csv('monthly_perf.csv',index=True)\n",
    "avg_seller_LTV.info()\n"
   ]
  },
  {
   "cell_type": "code",
   "execution_count": null,
   "metadata": {},
   "outputs": [],
   "source": []
  },
  {
   "cell_type": "code",
   "execution_count": null,
   "metadata": {},
   "outputs": [],
   "source": []
  },
  {
   "cell_type": "markdown",
   "metadata": {},
   "source": [
    "### 1.2 (optional): Here are other hypothesis you may want to investigate instead\n",
    "\n",
    "- Should Olist remove the worst performing products / categories from its marketplace entirely?\n",
    "- Should Olist remove only consistently underperforming sellers, after it has a honeymoon period of few months?\n",
    "- Should Olist restrict seller/customer pairs between certain states to avoid delays?\n",
    "- Should Olist acquire new sellers, with some cost assumptions to be suggested?\n",
    "- ...\n"
   ]
  },
  {
   "cell_type": "markdown",
   "metadata": {},
   "source": [
    "## Your turn!"
   ]
  },
  {
   "cell_type": "markdown",
   "metadata": {},
   "source": [
    "🧺 Keep this notebook tidy! \n",
    "\n",
    "📅 🗣 📊 You will orally present your insights to your favorite TA at the end of this unit `Communicate`"
   ]
  },
  {
   "cell_type": "code",
   "execution_count": null,
   "metadata": {},
   "outputs": [],
   "source": []
  }
 ],
 "metadata": {
  "celltoolbar": "Slideshow",
  "kernelspec": {
   "display_name": "Python 3",
   "language": "python",
   "name": "python3"
  },
  "language_info": {
   "codemirror_mode": {
    "name": "ipython",
    "version": 3
   },
   "file_extension": ".py",
   "mimetype": "text/x-python",
   "name": "python",
   "nbconvert_exporter": "python",
   "pygments_lexer": "ipython3",
   "version": "3.8.8"
  },
  "toc": {
   "base_numbering": 1,
   "nav_menu": {},
   "number_sections": true,
   "sideBar": true,
   "skip_h1_title": false,
   "title_cell": "Table of Contents",
   "title_sidebar": "Contents",
   "toc_cell": false,
   "toc_position": {},
   "toc_section_display": true,
   "toc_window_display": false
  }
 },
 "nbformat": 4,
 "nbformat_minor": 4
}
